{
 "cells": [
  {
   "cell_type": "code",
   "execution_count": 1,
   "id": "139dbdd8",
   "metadata": {
    "_cell_guid": "b1076dfc-b9ad-4769-8c92-a6c4dae69d19",
    "_uuid": "8f2839f25d086af736a60e9eeb907d3b93b6e0e5",
    "execution": {
     "iopub.execute_input": "2023-06-10T10:12:16.791315Z",
     "iopub.status.busy": "2023-06-10T10:12:16.790816Z",
     "iopub.status.idle": "2023-06-10T10:12:20.594446Z",
     "shell.execute_reply": "2023-06-10T10:12:20.593215Z"
    },
    "papermill": {
     "duration": 3.819059,
     "end_time": "2023-06-10T10:12:20.597516",
     "exception": false,
     "start_time": "2023-06-10T10:12:16.778457",
     "status": "completed"
    },
    "tags": []
   },
   "outputs": [],
   "source": [
    "import os\n",
    "import pandas as pd\n",
    "import warnings\n",
    "warnings.filterwarnings('ignore')\n",
    "import numpy as np\n",
    "import matplotlib.pyplot as plt\n",
    "import random\n",
    "import gc\n",
    "import lightgbm as lgb\n",
    "import joblib\n",
    "from lightgbm import LGBMRegressor\n",
    "from hyperopt import hp, tpe, fmin, Trials, rand, anneal"
   ]
  },
  {
   "cell_type": "code",
   "execution_count": 2,
   "id": "76360fe6",
   "metadata": {
    "execution": {
     "iopub.execute_input": "2023-06-10T10:12:20.621062Z",
     "iopub.status.busy": "2023-06-10T10:12:20.619803Z",
     "iopub.status.idle": "2023-06-10T10:12:35.406843Z",
     "shell.execute_reply": "2023-06-10T10:12:35.405518Z"
    },
    "papermill": {
     "duration": 14.800731,
     "end_time": "2023-06-10T10:12:35.409513",
     "exception": false,
     "start_time": "2023-06-10T10:12:20.608782",
     "status": "completed"
    },
    "tags": []
   },
   "outputs": [
    {
     "name": "stdout",
     "output_type": "stream",
     "text": [
      "CPU times: user 10.1 s, sys: 1.24 s, total: 11.3 s\n",
      "Wall time: 14.8 s\n"
     ]
    }
   ],
   "source": [
    "%%time\n",
    "base_path = \"/kaggle/input/m5-forecasting-accuracy/\"\n",
    "calendar = pd.read_csv(f\"{base_path}calendar.csv\")\n",
    "train_eva = pd.read_csv(f\"{base_path}sales_train_evaluation.csv\")\n",
    "sell_prices = pd.read_csv(f\"{base_path}sell_prices.csv\")\n",
    "sample_sub = pd.read_csv(f\"{base_path}sample_submission.csv\")"
   ]
  },
  {
   "cell_type": "code",
   "execution_count": 3,
   "id": "640455e5",
   "metadata": {
    "execution": {
     "iopub.execute_input": "2023-06-10T10:12:35.430946Z",
     "iopub.status.busy": "2023-06-10T10:12:35.430517Z",
     "iopub.status.idle": "2023-06-10T10:12:35.470508Z",
     "shell.execute_reply": "2023-06-10T10:12:35.469310Z"
    },
    "papermill": {
     "duration": 0.053767,
     "end_time": "2023-06-10T10:12:35.473231",
     "exception": false,
     "start_time": "2023-06-10T10:12:35.419464",
     "status": "completed"
    },
    "tags": []
   },
   "outputs": [],
   "source": [
    "# Add more columns in file train\n",
    "for d in range(1942,1970):\n",
    "    col = 'd_' + str(d)\n",
    "    train_eva[col] = 0\n",
    "    train_eva[col] = train_eva[col].astype(np.int16)"
   ]
  },
  {
   "cell_type": "code",
   "execution_count": 4,
   "id": "1dd80cf2",
   "metadata": {
    "execution": {
     "iopub.execute_input": "2023-06-10T10:12:35.495256Z",
     "iopub.status.busy": "2023-06-10T10:12:35.494799Z",
     "iopub.status.idle": "2023-06-10T10:12:35.512546Z",
     "shell.execute_reply": "2023-06-10T10:12:35.510677Z"
    },
    "papermill": {
     "duration": 0.032846,
     "end_time": "2023-06-10T10:12:35.515339",
     "exception": false,
     "start_time": "2023-06-10T10:12:35.482493",
     "status": "completed"
    },
    "tags": []
   },
   "outputs": [],
   "source": [
    "def downcast(df):\n",
    "    cols = df.dtypes.index.tolist()\n",
    "    types = df.dtypes.values.tolist()\n",
    "    for i,t in enumerate(types):\n",
    "        if 'int' in str(t):\n",
    "            if df[cols[i]].min() > np.iinfo(np.int8).min and df[cols[i]].max() < np.iinfo(np.int8).max:\n",
    "                df[cols[i]] = df[cols[i]].astype(np.int8)\n",
    "            elif df[cols[i]].min() > np.iinfo(np.int16).min and df[cols[i]].max() < np.iinfo(np.int16).max:\n",
    "                df[cols[i]] = df[cols[i]].astype(np.int16)\n",
    "            elif df[cols[i]].min() > np.iinfo(np.int32).min and df[cols[i]].max() < np.iinfo(np.int32).max:\n",
    "                df[cols[i]] = df[cols[i]].astype(np.int32)\n",
    "            else:\n",
    "                df[cols[i]] = df[cols[i]].astype(np.int64)\n",
    "        elif 'float' in str(t):\n",
    "            if df[cols[i]].min() > np.finfo(np.float16).min and df[cols[i]].max() < np.finfo(np.float16).max:\n",
    "                df[cols[i]] = df[cols[i]].astype(np.float16)\n",
    "            elif df[cols[i]].min() > np.finfo(np.float32).min and df[cols[i]].max() < np.finfo(np.float32).max:\n",
    "                df[cols[i]] = df[cols[i]].astype(np.float32)\n",
    "            else:\n",
    "                df[cols[i]] = df[cols[i]].astype(np.float64)\n",
    "        elif t == np.object:\n",
    "            if cols[i] == 'date':\n",
    "                df[cols[i]] = pd.to_datetime(df[cols[i]], format='%Y-%m-%d')\n",
    "            else:\n",
    "                df[cols[i]] = df[cols[i]].astype('category')\n",
    "    return df  "
   ]
  },
  {
   "cell_type": "code",
   "execution_count": 5,
   "id": "579d705a",
   "metadata": {
    "execution": {
     "iopub.execute_input": "2023-06-10T10:12:35.536947Z",
     "iopub.status.busy": "2023-06-10T10:12:35.536479Z",
     "iopub.status.idle": "2023-06-10T10:15:35.594770Z",
     "shell.execute_reply": "2023-06-10T10:15:35.593460Z"
    },
    "papermill": {
     "duration": 180.082638,
     "end_time": "2023-06-10T10:15:35.607318",
     "exception": false,
     "start_time": "2023-06-10T10:12:35.524680",
     "status": "completed"
    },
    "tags": []
   },
   "outputs": [
    {
     "name": "stdout",
     "output_type": "stream",
     "text": [
      "Downcasting data\n",
      "CPU times: user 1min 34s, sys: 1min 25s, total: 2min 59s\n",
      "Wall time: 3min\n"
     ]
    }
   ],
   "source": [
    "%%time\n",
    "print(\"Downcasting data\")\n",
    "train_eva = downcast(train_eva)\n",
    "sell_prices = downcast(sell_prices)\n",
    "calendar = downcast(calendar)"
   ]
  },
  {
   "cell_type": "code",
   "execution_count": 6,
   "id": "518fa947",
   "metadata": {
    "execution": {
     "iopub.execute_input": "2023-06-10T10:15:35.628647Z",
     "iopub.status.busy": "2023-06-10T10:15:35.628184Z",
     "iopub.status.idle": "2023-06-10T10:15:45.593838Z",
     "shell.execute_reply": "2023-06-10T10:15:45.592443Z"
    },
    "papermill": {
     "duration": 9.979683,
     "end_time": "2023-06-10T10:15:45.596563",
     "exception": false,
     "start_time": "2023-06-10T10:15:35.616880",
     "status": "completed"
    },
    "tags": []
   },
   "outputs": [
    {
     "name": "stdout",
     "output_type": "stream",
     "text": [
      "Melting data\n",
      "CPU times: user 6.55 s, sys: 3.4 s, total: 9.95 s\n",
      "Wall time: 9.96 s\n"
     ]
    }
   ],
   "source": [
    "%%time\n",
    "print(\"Melting data\")\n",
    "df = pd.melt(frame=train_eva, \n",
    "             id_vars=[\"id\", \"item_id\", \"dept_id\", \"cat_id\", \"store_id\", \"state_id\"],\n",
    "             var_name=\"d\", value_name=\"sold\")"
   ]
  },
  {
   "cell_type": "code",
   "execution_count": 7,
   "id": "1fc4cd12",
   "metadata": {
    "execution": {
     "iopub.execute_input": "2023-06-10T10:15:45.618691Z",
     "iopub.status.busy": "2023-06-10T10:15:45.617783Z",
     "iopub.status.idle": "2023-06-10T10:16:31.086492Z",
     "shell.execute_reply": "2023-06-10T10:16:31.085045Z"
    },
    "papermill": {
     "duration": 45.493134,
     "end_time": "2023-06-10T10:16:31.099360",
     "exception": false,
     "start_time": "2023-06-10T10:15:45.606226",
     "status": "completed"
    },
    "tags": []
   },
   "outputs": [
    {
     "name": "stdout",
     "output_type": "stream",
     "text": [
      "Merging data\n",
      "CPU times: user 35.9 s, sys: 9.54 s, total: 45.5 s\n",
      "Wall time: 45.5 s\n"
     ]
    }
   ],
   "source": [
    "%%time\n",
    "print(\"Merging data\")\n",
    "df = pd.merge(left=df, right=calendar, how=\"left\", on=\"d\")\n",
    "df = pd.merge(left=df, right=sell_prices, on=[\"store_id\", \"item_id\", \"wm_yr_wk\"], how=\"left\")"
   ]
  },
  {
   "cell_type": "code",
   "execution_count": 8,
   "id": "b4cab62f",
   "metadata": {
    "execution": {
     "iopub.execute_input": "2023-06-10T10:16:31.123361Z",
     "iopub.status.busy": "2023-06-10T10:16:31.122942Z",
     "iopub.status.idle": "2023-06-10T10:17:17.504274Z",
     "shell.execute_reply": "2023-06-10T10:17:17.503423Z"
    },
    "papermill": {
     "duration": 46.406695,
     "end_time": "2023-06-10T10:17:17.516660",
     "exception": false,
     "start_time": "2023-06-10T10:16:31.109965",
     "status": "completed"
    },
    "tags": []
   },
   "outputs": [
    {
     "name": "stdout",
     "output_type": "stream",
     "text": [
      "Implement features\n",
      "CPU times: user 42.6 s, sys: 3.88 s, total: 46.4 s\n",
      "Wall time: 46.4 s\n"
     ]
    }
   ],
   "source": [
    "%%time\n",
    "print(\"Implement features\")\n",
    "#Calculate the SNAP (Supplemental Nutrition Assistance Program) day for each state\n",
    "df[\"snap\"] = df[\"snap_CA\"] + df[\"snap_TX\"] + df[\"snap_WI\"]\n",
    "df[\"snap\"] = np.where(df[\"snap\"] >= 1, 1, 0).astype(np.int8)\n",
    "\n",
    "# Apply int for day column\n",
    "df[\"d\"] = df[\"d\"].str[2:].astype(np.int16)\n",
    "\n",
    "# Process NaN value\n",
    "df[\"sell_price\"] = df['sell_price'].fillna(df.groupby('id')['sell_price'].transform('median'))\n",
    "\n",
    "# Is it a weekend\n",
    "df[\"weekend\"] = np.where(df[\"wday\"] < 3, 1, 0).astype(np.int8)\n",
    "\n",
    "# Drop unnecessary columns\n",
    "df = df.drop([\"date\", \"weekday\", \"wm_yr_wk\", \"event_name_2\", \"event_type_2\", \"snap_CA\", \"snap_TX\", \"snap_WI\"], axis=1)"
   ]
  },
  {
   "cell_type": "code",
   "execution_count": 9,
   "id": "28a3a8e0",
   "metadata": {
    "execution": {
     "iopub.execute_input": "2023-06-10T10:17:17.539040Z",
     "iopub.status.busy": "2023-06-10T10:17:17.538210Z",
     "iopub.status.idle": "2023-06-10T10:17:52.102834Z",
     "shell.execute_reply": "2023-06-10T10:17:52.101632Z"
    },
    "papermill": {
     "duration": 34.579281,
     "end_time": "2023-06-10T10:17:52.105910",
     "exception": false,
     "start_time": "2023-06-10T10:17:17.526629",
     "status": "completed"
    },
    "tags": []
   },
   "outputs": [
    {
     "name": "stdout",
     "output_type": "stream",
     "text": [
      "Label Encoding\n"
     ]
    }
   ],
   "source": [
    "# Label Encoder\n",
    "print(\"Label Encoding\")\n",
    "d_id = dict(zip(df[\"id\"].cat.codes, df[\"id\"]))\n",
    "d_store = dict(zip(df[\"store_id\"].cat.codes, df[\"store_id\"]))\n",
    "df[\"id\"] = df[\"id\"].cat.codes\n",
    "df[\"item_id\"] = df[\"item_id\"].cat.codes\n",
    "df[\"dept_id\"] = df[\"dept_id\"].cat.codes\n",
    "df[\"cat_id\"] = df[\"cat_id\"].cat.codes\n",
    "df[\"store_id\"] = df[\"store_id\"].cat.codes\n",
    "df[\"state_id\"] = df[\"state_id\"].cat.codes\n",
    "df[\"event_name_1\"] = df[\"event_name_1\"].cat.codes\n",
    "df[\"event_type_1\"] = df[\"event_type_1\"].cat.codes"
   ]
  },
  {
   "cell_type": "code",
   "execution_count": 10,
   "id": "e5986bcd",
   "metadata": {
    "execution": {
     "iopub.execute_input": "2023-06-10T10:17:52.129265Z",
     "iopub.status.busy": "2023-06-10T10:17:52.128835Z",
     "iopub.status.idle": "2023-06-10T10:23:43.172257Z",
     "shell.execute_reply": "2023-06-10T10:23:43.171054Z"
    },
    "papermill": {
     "duration": 351.068952,
     "end_time": "2023-06-10T10:23:43.185536",
     "exception": false,
     "start_time": "2023-06-10T10:17:52.116584",
     "status": "completed"
    },
    "tags": []
   },
   "outputs": [
    {
     "name": "stdout",
     "output_type": "stream",
     "text": [
      "Calulating Lags and Rolling mean\n",
      "CPU times: user 5min 7s, sys: 43.4 s, total: 5min 50s\n",
      "Wall time: 5min 51s\n"
     ]
    }
   ],
   "source": [
    "%%time\n",
    "print(\"Calulating Lags and Rolling mean\")\n",
    "# Lags must be > 28\n",
    "lags = [29,30,31,32,33,34,35,40,55,60,65,180]\n",
    "for lag in lags:\n",
    "    df['sold_lag_'+str(lag)] = df.groupby(['id', 'item_id', 'dept_id', 'cat_id', 'store_id', 'state_id'],as_index=False)['sold'].shift(lag).astype(np.float16)\n",
    "    \n",
    "df['rolling_mean_7']   = df.groupby(['id'])['sold'].transform(lambda x: x.shift(28).rolling(7).mean())\n",
    "df['rolling_mean_14']   = df.groupby(['id'])['sold'].transform(lambda x: x.shift(28).rolling(14).mean())\n",
    "df['rolling_mean_30']  = df.groupby(['id'])['sold'].transform(lambda x: x.shift(28).rolling(30).mean())\n",
    "df['rolling_mean_60']  = df.groupby(['id'])['sold'].transform(lambda x: x.shift(28).rolling(60).mean())\n",
    "df['rolling_mean_180']  = df.groupby(['id'])['sold'].transform(lambda x: x.shift(28).rolling(180).mean())"
   ]
  },
  {
   "cell_type": "code",
   "execution_count": 11,
   "id": "7b42cb25",
   "metadata": {
    "execution": {
     "iopub.execute_input": "2023-06-10T10:23:43.207652Z",
     "iopub.status.busy": "2023-06-10T10:23:43.207243Z",
     "iopub.status.idle": "2023-06-10T10:23:55.392340Z",
     "shell.execute_reply": "2023-06-10T10:23:55.390972Z"
    },
    "papermill": {
     "duration": 12.199536,
     "end_time": "2023-06-10T10:23:55.395255",
     "exception": false,
     "start_time": "2023-06-10T10:23:43.195719",
     "status": "completed"
    },
    "tags": []
   },
   "outputs": [],
   "source": [
    "df = df[df[\"d\"] > 28+180]"
   ]
  },
  {
   "cell_type": "code",
   "execution_count": 12,
   "id": "47548f53",
   "metadata": {
    "execution": {
     "iopub.execute_input": "2023-06-10T10:23:55.418929Z",
     "iopub.status.busy": "2023-06-10T10:23:55.418470Z",
     "iopub.status.idle": "2023-06-10T10:24:01.116478Z",
     "shell.execute_reply": "2023-06-10T10:24:01.115142Z"
    },
    "papermill": {
     "duration": 5.713581,
     "end_time": "2023-06-10T10:24:01.119285",
     "exception": false,
     "start_time": "2023-06-10T10:23:55.405704",
     "status": "completed"
    },
    "tags": []
   },
   "outputs": [
    {
     "data": {
      "text/plain": [
       "0"
      ]
     },
     "execution_count": 12,
     "metadata": {},
     "output_type": "execute_result"
    }
   ],
   "source": [
    "# Save dataframe\n",
    "df.to_pickle('data.pkl')\n",
    "del df\n",
    "gc.collect()"
   ]
  },
  {
   "cell_type": "code",
   "execution_count": 13,
   "id": "7888e15d",
   "metadata": {
    "execution": {
     "iopub.execute_input": "2023-06-10T10:24:12.648875Z",
     "iopub.status.busy": "2023-06-10T10:24:12.647889Z",
     "iopub.status.idle": "2023-06-10T10:24:23.823266Z",
     "shell.execute_reply": "2023-06-10T10:24:23.821441Z"
    },
    "papermill": {
     "duration": 11.372073,
     "end_time": "2023-06-10T10:24:23.827397",
     "exception": false,
     "start_time": "2023-06-10T10:24:12.455324",
     "status": "completed"
    },
    "tags": []
   },
   "outputs": [
    {
     "name": "stdout",
     "output_type": "stream",
     "text": [
      "CPU times: user 338 ms, sys: 10.8 s, total: 11.2 s\n",
      "Wall time: 11.2 s\n"
     ]
    }
   ],
   "source": [
    "%%time\n",
    "data = pd.read_pickle('data.pkl')\n",
    "valid = data[(data['d']>=1914) & (data['d']<1942)][['id','d','sold']]\n",
    "test = data[data['d']>=1942][['id','d','sold']]"
   ]
  },
  {
   "cell_type": "code",
   "execution_count": 14,
   "id": "8e41c08e",
   "metadata": {
    "execution": {
     "iopub.execute_input": "2023-06-10T10:24:23.852474Z",
     "iopub.status.busy": "2023-06-10T10:24:23.852029Z",
     "iopub.status.idle": "2023-06-10T10:24:23.868672Z",
     "shell.execute_reply": "2023-06-10T10:24:23.867549Z"
    },
    "papermill": {
     "duration": 0.032659,
     "end_time": "2023-06-10T10:24:23.871230",
     "exception": false,
     "start_time": "2023-06-10T10:24:23.838571",
     "status": "completed"
    },
    "tags": []
   },
   "outputs": [],
   "source": [
    "# Get from file Tuning HyperParams\n",
    "best_params_store = (\n",
    "{'CA_1': {'colsample_bytree': 0.8,\n",
    "  'learning_rate': 0.2,\n",
    "  'max_depth': 7.0,\n",
    "  'min_child_weight': 300.0,\n",
    "  'num_leaves': 200.0,\n",
    "  'subsample': 0.9},\n",
    " 'CA_2': {'colsample_bytree': 0.9,\n",
    "  'learning_rate': 0.30000000000000004,\n",
    "  'max_depth': 8.0,\n",
    "  'min_child_weight': 200.0,\n",
    "  'num_leaves': 200.0,\n",
    "  'subsample': 0.8},\n",
    " 'CA_3': {'colsample_bytree': 0.9,\n",
    "  'learning_rate': 0.2,\n",
    "  'max_depth': 8.0,\n",
    "  'min_child_weight': 300.0,\n",
    "  'num_leaves': 250.0,\n",
    "  'subsample': 0.9},\n",
    " 'CA_4': {'colsample_bytree': 0.9,\n",
    "  'learning_rate': 0.30000000000000004,\n",
    "  'max_depth': 7.0,\n",
    "  'min_child_weight': 300.0,\n",
    "  'num_leaves': 200.0,\n",
    "  'subsample': 0.9},\n",
    " 'TX_1': {'colsample_bytree': 0.8,\n",
    "  'learning_rate': 0.2,\n",
    "  'max_depth': 7.0,\n",
    "  'min_child_weight': 300.0,\n",
    "  'num_leaves': 200.0,\n",
    "  'subsample': 1.0},\n",
    " 'TX_2': {'colsample_bytree': 1.0,\n",
    "  'learning_rate': 0.30000000000000004,\n",
    "  'max_depth': 8.0,\n",
    "  'min_child_weight': 300.0,\n",
    "  'num_leaves': 200.0,\n",
    "  'subsample': 0.9},\n",
    " 'TX_3': {'colsample_bytree': 0.8,\n",
    "  'learning_rate': 0.2,\n",
    "  'max_depth': 7.0,\n",
    "  'min_child_weight': 300.0,\n",
    "  'num_leaves': 250.0,\n",
    "  'subsample': 0.9},\n",
    " 'WI_1': {'colsample_bytree': 0.9,\n",
    "  'learning_rate': 0.2,\n",
    "  'max_depth': 8.0,\n",
    "  'min_child_weight': 400.0,\n",
    "  'num_leaves': 250.0,\n",
    "  'subsample': 0.8},\n",
    " 'WI_2': {'colsample_bytree': 1.0,\n",
    "  'learning_rate': 0.2,\n",
    "  'max_depth': 8.0,\n",
    "  'min_child_weight': 200.0,\n",
    "  'num_leaves': 250.0,\n",
    "  'subsample': 0.9},\n",
    " 'WI_3': {'colsample_bytree': 0.9,\n",
    "  'learning_rate': 0.2,\n",
    "  'max_depth': 8.0,\n",
    "  'min_child_weight': 400.0,\n",
    "  'num_leaves': 250.0,\n",
    "  'subsample': 0.9}})"
   ]
  },
  {
   "cell_type": "code",
   "execution_count": 15,
   "id": "cd9172d0",
   "metadata": {
    "execution": {
     "iopub.execute_input": "2023-06-10T10:24:23.894978Z",
     "iopub.status.busy": "2023-06-10T10:24:23.894553Z",
     "iopub.status.idle": "2023-06-10T10:24:28.554638Z",
     "shell.execute_reply": "2023-06-10T10:24:28.553257Z"
    },
    "papermill": {
     "duration": 4.674777,
     "end_time": "2023-06-10T10:24:28.557247",
     "exception": false,
     "start_time": "2023-06-10T10:24:23.882470",
     "status": "completed"
    },
    "tags": []
   },
   "outputs": [
    {
     "name": "stdout",
     "output_type": "stream",
     "text": [
      "CPU times: user 323 ms, sys: 4.31 s, total: 4.64 s\n",
      "Wall time: 4.65 s\n"
     ]
    }
   ],
   "source": [
    "%%time\n",
    "data = pd.read_pickle('data.pkl')\n",
    "valid = data[(data['d']>=1914) & (data['d']<1942)][['id','d','sold']]\n",
    "test = data[data['d']>=1942][['id','d','sold']]"
   ]
  },
  {
   "cell_type": "code",
   "execution_count": 16,
   "id": "77935109",
   "metadata": {
    "execution": {
     "iopub.execute_input": "2023-06-10T10:24:28.580808Z",
     "iopub.status.busy": "2023-06-10T10:24:28.580010Z",
     "iopub.status.idle": "2023-06-10T10:24:28.603234Z",
     "shell.execute_reply": "2023-06-10T10:24:28.601843Z"
    },
    "papermill": {
     "duration": 0.037943,
     "end_time": "2023-06-10T10:24:28.605827",
     "exception": false,
     "start_time": "2023-06-10T10:24:28.567884",
     "status": "completed"
    },
    "tags": []
   },
   "outputs": [],
   "source": [
    "def cross_validation(data, valid_first_day, params, day_start, d_store=d_store, sample_sub=sample_sub):\n",
    "    \n",
    "    valid = data[(data['d']>=valid_first_day) & (data['d']<valid_first_day+28)][['id','d','sold']]\n",
    "    print(f\"Valid first day {valid_first_day} predicting\")\n",
    "    for i in range(10): \n",
    "        # Forecast cho từng store \n",
    "        df = data[data[\"store_id\"] == i]\n",
    "\n",
    "        #Create train set\n",
    "        X_train, y_train = df[(df['d']>=day_start) & (df['d']<valid_first_day)].drop('sold',axis=1), df[(df['d']>=day_start) & (df['d']<valid_first_day)]['sold']\n",
    "        train_sets = lgb.Dataset(X_train, y_train)\n",
    "        X_valid, y_valid = df[(df['d']>=valid_first_day) & (df['d']<valid_first_day+28)].drop('sold',axis=1), df[(df['d']>=valid_first_day) & (df['d']<valid_first_day+28)]['sold']\n",
    "        valid_sets = lgb.Dataset(X_valid, y_valid)\n",
    "\n",
    "        model = lgb.train(params={'objective' : 'tweedie',\n",
    "                                  'force_row_wise': True,\n",
    "                                  'verbose': -1,\n",
    "                                  'n_estimators': 1000,\n",
    "                                  'learning_rate':params[d_store[i]][\"learning_rate\"],\n",
    "                                  'subsample': params[d_store[i]][\"subsample\"],\n",
    "                                  'colsample_bytree':params[d_store[i]][\"colsample_bytree\"],\n",
    "                                  'min_child_weight':params[d_store[i]][\"min_child_weight\"],\n",
    "                                  'max_depth':np.int16(params[d_store[i]][\"max_depth\"]),\n",
    "                                  'num_leaves':np.int16(params[d_store[i]][\"num_leaves\"])},\n",
    "                                \n",
    "                      train_set=train_sets, \n",
    "                      valid_sets=valid_sets,\n",
    "                      verbose_eval=False,\n",
    "                      early_stopping_rounds=50)\n",
    "\n",
    "        pred_val = model.predict(X_valid)\n",
    "        valid.loc[X_valid.index, \"sold\"] = pred_val\n",
    "\n",
    "    valid[\"id\"] = valid[\"id\"].map(d_id)\n",
    "    valid = valid.pivot(index=\"id\", columns=\"d\", values=\"sold\").reset_index()\n",
    "    valid[\"id\"] = valid[\"id\"].str.replace(\"evaluation\", \"validation\")\n",
    "    \n",
    "    sample_sub = sample_sub[[\"id\"]]\n",
    "\n",
    "    f_col = [f\"F{i}\" for i in range(1,29)]\n",
    "    f_col.insert(0, \"id\")\n",
    "    \n",
    "    print(f\"Valid testset from day {valid.columns[1]} to day {valid.columns[-1]}\")\n",
    "    \n",
    "    out_val = pd.merge(left=sample_sub[:30490], right=valid, on=\"id\")\n",
    "    out_val.columns=f_col\n",
    "    \n",
    "    return out_val\n",
    "\n",
    "def avg_rmsse_score(out_val, train_eva, valid_first_day, day_start):\n",
    "    \n",
    "    print(f\"Scoring from {valid_first_day} to {valid_first_day+28-1}\")\n",
    "    print(f\"Naive first day {day_start}\")\n",
    "    \n",
    "    days_train = [i for i in range(day_start, valid_first_day)]\n",
    "    days_valid = [i for i in range(valid_first_day, valid_first_day+28)]\n",
    "    \n",
    "    naive_predict = np.array(train_eva[days_train].drop(valid_first_day-1, axis=1)).astype(np.int32)\n",
    "    y_true_naive = np.array(train_eva[days_train].drop(day_start, axis=1)).astype(np.int32)\n",
    "    naive_mse = np.mean((naive_predict - y_true_naive) ** 2, axis=1)\n",
    "    \n",
    "    model_pred = np.array(out_val.iloc[:, 1:])\n",
    "    y_true_model = np.array(train_eva[days_valid])\n",
    "    model_mse = np.mean((model_pred - y_true_model) ** 2, axis=1)\n",
    "    \n",
    "    avg_rmsse = np.sqrt(model_mse / naive_mse).mean()\n",
    "    \n",
    "    return avg_rmsse"
   ]
  },
  {
   "cell_type": "code",
   "execution_count": 17,
   "id": "f742e3cd",
   "metadata": {
    "execution": {
     "iopub.execute_input": "2023-06-10T10:24:28.629219Z",
     "iopub.status.busy": "2023-06-10T10:24:28.628800Z",
     "iopub.status.idle": "2023-06-10T10:24:28.635083Z",
     "shell.execute_reply": "2023-06-10T10:24:28.634261Z"
    },
    "papermill": {
     "duration": 0.020805,
     "end_time": "2023-06-10T10:24:28.637330",
     "exception": false,
     "start_time": "2023-06-10T10:24:28.616525",
     "status": "completed"
    },
    "tags": []
   },
   "outputs": [],
   "source": [
    "train_eva.columns = list(train_eva.columns[:6]) + [i for i in range(1, 1970)]"
   ]
  },
  {
   "cell_type": "code",
   "execution_count": 18,
   "id": "40dd4830",
   "metadata": {
    "execution": {
     "iopub.execute_input": "2023-06-10T10:24:28.660710Z",
     "iopub.status.busy": "2023-06-10T10:24:28.659413Z",
     "iopub.status.idle": "2023-06-10T10:24:28.665199Z",
     "shell.execute_reply": "2023-06-10T10:24:28.664148Z"
    },
    "papermill": {
     "duration": 0.019963,
     "end_time": "2023-06-10T10:24:28.667657",
     "exception": false,
     "start_time": "2023-06-10T10:24:28.647694",
     "status": "completed"
    },
    "tags": []
   },
   "outputs": [],
   "source": [
    "valid_first_days_list = [1858, 1886, 1914]\n",
    "cv_score = dict()"
   ]
  },
  {
   "cell_type": "code",
   "execution_count": 19,
   "id": "9661a08a",
   "metadata": {
    "execution": {
     "iopub.execute_input": "2023-06-10T10:24:28.691956Z",
     "iopub.status.busy": "2023-06-10T10:24:28.691263Z",
     "iopub.status.idle": "2023-06-10T10:54:38.762585Z",
     "shell.execute_reply": "2023-06-10T10:54:38.760514Z"
    },
    "papermill": {
     "duration": 1810.086874,
     "end_time": "2023-06-10T10:54:38.765828",
     "exception": false,
     "start_time": "2023-06-10T10:24:28.678954",
     "status": "completed"
    },
    "tags": []
   },
   "outputs": [
    {
     "name": "stdout",
     "output_type": "stream",
     "text": [
      "Valid first day 1858 predicting\n",
      "Valid testset from day 1858 to day 1885\n",
      "Scoring from 1858 to 1885\n",
      "Naive first day 1\n",
      "Valid first day 1886 predicting\n",
      "Valid testset from day 1886 to day 1913\n",
      "Scoring from 1886 to 1913\n",
      "Naive first day 29\n",
      "Valid first day 1914 predicting\n",
      "Valid testset from day 1914 to day 1941\n",
      "Scoring from 1914 to 1941\n",
      "Naive first day 57\n",
      "CPU times: user 1h 34min 40s, sys: 1min 56s, total: 1h 36min 37s\n",
      "Wall time: 30min 10s\n"
     ]
    }
   ],
   "source": [
    "%%time\n",
    "valid_first_days_list = [1858, 1886, 1914]\n",
    "day_start = 209\n",
    "day_start_naive = 1\n",
    "cv_score = dict()\n",
    "for i in valid_first_days_list:\n",
    "    out_df_cv = cross_validation(data=data, valid_first_day=i, day_start=day_start, params=best_params_store)\n",
    "    cv_score[i] = avg_rmsse_score(out_val=out_df_cv, train_eva=train_eva, valid_first_day=i, day_start=day_start_naive)\n",
    "    day_start += 28\n",
    "    day_start_naive += 28"
   ]
  },
  {
   "cell_type": "code",
   "execution_count": 20,
   "id": "5b920b7c",
   "metadata": {
    "execution": {
     "iopub.execute_input": "2023-06-10T10:54:38.791531Z",
     "iopub.status.busy": "2023-06-10T10:54:38.791058Z",
     "iopub.status.idle": "2023-06-10T10:54:38.798397Z",
     "shell.execute_reply": "2023-06-10T10:54:38.797137Z"
    },
    "papermill": {
     "duration": 0.02388,
     "end_time": "2023-06-10T10:54:38.801064",
     "exception": false,
     "start_time": "2023-06-10T10:54:38.777184",
     "status": "completed"
    },
    "tags": []
   },
   "outputs": [
    {
     "name": "stdout",
     "output_type": "stream",
     "text": [
      "Score 1858 0.9123814090623443\n",
      "Score 1886 0.8975892701527566\n",
      "Score 1914 0.9106487788471872\n",
      "CV score 0.9068731526874294\n"
     ]
    }
   ],
   "source": [
    "for i in valid_first_days_list:\n",
    "    print(f\"Score {i}\", cv_score[i])\n",
    "    \n",
    "print(\"CV score\", np.mean(list(cv_score.values())))"
   ]
  },
  {
   "cell_type": "code",
   "execution_count": 21,
   "id": "7a4661fa",
   "metadata": {
    "execution": {
     "iopub.execute_input": "2023-06-10T10:54:38.827942Z",
     "iopub.status.busy": "2023-06-10T10:54:38.826822Z",
     "iopub.status.idle": "2023-06-10T10:55:46.488931Z",
     "shell.execute_reply": "2023-06-10T10:55:46.477865Z"
    },
    "papermill": {
     "duration": 67.685243,
     "end_time": "2023-06-10T10:55:46.498100",
     "exception": false,
     "start_time": "2023-06-10T10:54:38.812857",
     "status": "completed"
    },
    "tags": []
   },
   "outputs": [
    {
     "name": "stdout",
     "output_type": "stream",
     "text": [
      "CPU times: user 313 ms, sys: 28.2 s, total: 28.5 s\n",
      "Wall time: 1min 7s\n"
     ]
    }
   ],
   "source": [
    "%%time\n",
    "data = pd.read_pickle('data.pkl')\n",
    "valid = data[(data['d']>=1914) & (data['d']<1942)][['id','d','sold']]\n",
    "test = data[data['d']>=1942][['id','d','sold']]"
   ]
  },
  {
   "cell_type": "code",
   "execution_count": 22,
   "id": "4e21e819",
   "metadata": {
    "execution": {
     "iopub.execute_input": "2023-06-10T10:55:46.523945Z",
     "iopub.status.busy": "2023-06-10T10:55:46.523446Z",
     "iopub.status.idle": "2023-06-10T11:07:45.907496Z",
     "shell.execute_reply": "2023-06-10T11:07:45.905831Z"
    },
    "papermill": {
     "duration": 719.400743,
     "end_time": "2023-06-10T11:07:45.910217",
     "exception": false,
     "start_time": "2023-06-10T10:55:46.509474",
     "status": "completed"
    },
    "tags": []
   },
   "outputs": [
    {
     "name": "stdout",
     "output_type": "stream",
     "text": [
      "Train model for store CA_1\n",
      "--------\n",
      "Training until validation scores don't improve for 50 rounds\n",
      "[50]\tvalid_0's tweedie: 4.29306\n",
      "[100]\tvalid_0's tweedie: 4.29036\n",
      "[150]\tvalid_0's tweedie: 4.29007\n",
      "Early stopping, best iteration is:\n",
      "[118]\tvalid_0's tweedie: 4.28749\n",
      "--------\n",
      "Predicting for store CA_1\n",
      "--------\n",
      "Saving model and clear memories\n",
      "--------\n",
      "Train model for store CA_2\n",
      "--------\n",
      "Training until validation scores don't improve for 50 rounds\n",
      "[50]\tvalid_0's tweedie: 4.36271\n",
      "Early stopping, best iteration is:\n",
      "[20]\tvalid_0's tweedie: 4.35669\n",
      "--------\n",
      "Predicting for store CA_2\n",
      "--------\n",
      "Saving model and clear memories\n",
      "--------\n",
      "Train model for store CA_3\n",
      "--------\n",
      "Training until validation scores don't improve for 50 rounds\n",
      "[50]\tvalid_0's tweedie: 4.85149\n",
      "[100]\tvalid_0's tweedie: 4.85041\n",
      "[150]\tvalid_0's tweedie: 4.85232\n",
      "Early stopping, best iteration is:\n",
      "[104]\tvalid_0's tweedie: 4.85014\n",
      "--------\n",
      "Predicting for store CA_3\n",
      "--------\n",
      "Saving model and clear memories\n",
      "--------\n",
      "Train model for store CA_4\n",
      "--------\n",
      "Training until validation scores don't improve for 50 rounds\n",
      "[50]\tvalid_0's tweedie: 3.36121\n",
      "[100]\tvalid_0's tweedie: 3.36465\n",
      "Early stopping, best iteration is:\n",
      "[59]\tvalid_0's tweedie: 3.36029\n",
      "--------\n",
      "Predicting for store CA_4\n",
      "--------\n",
      "Saving model and clear memories\n",
      "--------\n",
      "Train model for store TX_1\n",
      "--------\n",
      "Training until validation scores don't improve for 50 rounds\n",
      "[50]\tvalid_0's tweedie: 3.49641\n",
      "[100]\tvalid_0's tweedie: 3.50123\n",
      "Early stopping, best iteration is:\n",
      "[84]\tvalid_0's tweedie: 3.49591\n",
      "--------\n",
      "Predicting for store TX_1\n",
      "--------\n",
      "Saving model and clear memories\n",
      "--------\n",
      "Train model for store TX_2\n",
      "--------\n",
      "Training until validation scores don't improve for 50 rounds\n",
      "[50]\tvalid_0's tweedie: 3.85347\n",
      "Early stopping, best iteration is:\n",
      "[22]\tvalid_0's tweedie: 3.84615\n",
      "--------\n",
      "Predicting for store TX_2\n",
      "--------\n",
      "Saving model and clear memories\n",
      "--------\n",
      "Train model for store TX_3\n",
      "--------\n",
      "Training until validation scores don't improve for 50 rounds\n",
      "[50]\tvalid_0's tweedie: 3.86165\n",
      "[100]\tvalid_0's tweedie: 3.86235\n",
      "Early stopping, best iteration is:\n",
      "[84]\tvalid_0's tweedie: 3.85965\n",
      "--------\n",
      "Predicting for store TX_3\n",
      "--------\n",
      "Saving model and clear memories\n",
      "--------\n",
      "Train model for store WI_1\n",
      "--------\n",
      "Training until validation scores don't improve for 50 rounds\n",
      "[50]\tvalid_0's tweedie: 3.96841\n",
      "[100]\tvalid_0's tweedie: 3.97259\n",
      "Early stopping, best iteration is:\n",
      "[56]\tvalid_0's tweedie: 3.96737\n",
      "--------\n",
      "Predicting for store WI_1\n",
      "--------\n",
      "Saving model and clear memories\n",
      "--------\n",
      "Train model for store WI_2\n",
      "--------\n",
      "Training until validation scores don't improve for 50 rounds\n",
      "[50]\tvalid_0's tweedie: 4.24905\n",
      "Early stopping, best iteration is:\n",
      "[27]\tvalid_0's tweedie: 4.24715\n",
      "--------\n",
      "Predicting for store WI_2\n",
      "--------\n",
      "Saving model and clear memories\n",
      "--------\n",
      "Train model for store WI_3\n",
      "--------\n",
      "Training until validation scores don't improve for 50 rounds\n",
      "[50]\tvalid_0's tweedie: 3.71429\n",
      "[100]\tvalid_0's tweedie: 3.71603\n",
      "Early stopping, best iteration is:\n",
      "[53]\tvalid_0's tweedie: 3.71402\n",
      "--------\n",
      "Predicting for store WI_3\n",
      "--------\n",
      "Saving model and clear memories\n",
      "--------\n",
      "CPU times: user 37min 47s, sys: 43.5 s, total: 38min 31s\n",
      "Wall time: 11min 59s\n"
     ]
    }
   ],
   "source": [
    "%%time\n",
    "for i in range(10): \n",
    "    # Forecast cho từng store \n",
    "    df = data[data[\"store_id\"] == i]\n",
    "    \n",
    "    #Create train set\n",
    "    X_train, y_train = df[df['d']<1914].drop('sold',axis=1), df[df['d']<1914]['sold']\n",
    "    train_sets = lgb.Dataset(X_train, y_train)\n",
    "    X_valid, y_valid = df[(df['d']>=1914) & (df['d']<1942)].drop('sold',axis=1), df[(df['d']>=1914) & (df['d']<1942)]['sold']\n",
    "    valid_sets = lgb.Dataset(X_valid, y_valid)\n",
    "    X_test = df[df[\"d\"] >= 1942].drop(\"sold\", axis=1)\n",
    "    \n",
    "    # Create model\n",
    "    print(f\"Train model for store {d_store[i]}\")\n",
    "    print(\"--------\")\n",
    "\n",
    "    model = lgb.train(params={'objective' : 'tweedie',\n",
    "                              'force_row_wise': True,\n",
    "                              'verbose': -1,\n",
    "                              'n_estimators': 1000,\n",
    "                              'learning_rate':best_params_store[d_store[i]][\"learning_rate\"],\n",
    "                              'subsample': best_params_store[d_store[i]][\"subsample\"],\n",
    "                              'colsample_bytree':best_params_store[d_store[i]][\"colsample_bytree\"],\n",
    "                              'min_child_weight':best_params_store[d_store[i]][\"min_child_weight\"],\n",
    "                              'max_depth':np.int16(best_params_store[d_store[i]][\"max_depth\"]),\n",
    "                              'num_leaves':np.int16(best_params_store[d_store[i]][\"num_leaves\"])}, \n",
    "                      train_set=train_sets, \n",
    "                      valid_sets=valid_sets,\n",
    "                      verbose_eval=50,\n",
    "                      early_stopping_rounds=50)\n",
    "    \n",
    "    print(\"--------\")\n",
    "    print(f\"Predicting for store {d_store[i]}\")\n",
    "    \n",
    "    # Validation predict\n",
    "    pred_val = model.predict(X_valid)\n",
    "    valid.loc[X_valid.index, \"sold\"] = pred_val\n",
    "    pred_eva = model.predict(X_test)\n",
    "    test.loc[X_test.index, \"sold\"] = pred_eva\n",
    "    \n",
    "    print(\"--------\")\n",
    "    print(\"Saving model and clear memories\")  \n",
    "    print(\"--------\")\n",
    "    \n",
    "    filename = f'model_store_{d_store[i]}.pkl'\n",
    "    joblib.dump(model, filename)\n",
    "    del model, X_train, y_train, X_valid, y_valid, X_test, train_sets, valid_sets\n",
    "    gc.collect "
   ]
  },
  {
   "cell_type": "code",
   "execution_count": 23,
   "id": "6ce91669",
   "metadata": {
    "execution": {
     "iopub.execute_input": "2023-06-10T11:07:45.948324Z",
     "iopub.status.busy": "2023-06-10T11:07:45.946874Z",
     "iopub.status.idle": "2023-06-10T11:07:45.952647Z",
     "shell.execute_reply": "2023-06-10T11:07:45.951710Z"
    },
    "papermill": {
     "duration": 0.026323,
     "end_time": "2023-06-10T11:07:45.955235",
     "exception": false,
     "start_time": "2023-06-10T11:07:45.928912",
     "status": "completed"
    },
    "tags": []
   },
   "outputs": [],
   "source": [
    "#model = joblib.load(\"/kaggle/working/model_store_CA_1.pkl\")\n",
    "#lgb.plot_importance(model, importance_type=\"gain\", figsize=(15,8))"
   ]
  },
  {
   "cell_type": "code",
   "execution_count": 24,
   "id": "363ca18a",
   "metadata": {
    "execution": {
     "iopub.execute_input": "2023-06-10T11:07:45.991613Z",
     "iopub.status.busy": "2023-06-10T11:07:45.990264Z",
     "iopub.status.idle": "2023-06-10T11:07:47.371117Z",
     "shell.execute_reply": "2023-06-10T11:07:47.369798Z"
    },
    "papermill": {
     "duration": 1.401648,
     "end_time": "2023-06-10T11:07:47.373835",
     "exception": false,
     "start_time": "2023-06-10T11:07:45.972187",
     "status": "completed"
    },
    "tags": []
   },
   "outputs": [],
   "source": [
    "valid[\"id\"] = valid[\"id\"].map(d_id)\n",
    "valid = valid.pivot(index=\"id\", columns=\"d\", values=\"sold\").reset_index()\n",
    "valid[\"id\"] = valid[\"id\"].str.replace(\"evaluation\", \"validation\")\n",
    "\n",
    "sample_sub = sample_sub[[\"id\"]]\n",
    "\n",
    "f_col = [f\"F{i}\" for i in range(1,29)]\n",
    "f_col.insert(0, \"id\")\n",
    "\n",
    "out_val = pd.merge(left=sample_sub[:30490], right=valid, on=\"id\")\n",
    "out_val.columns=f_col\n",
    "\n",
    "test[\"id\"] = test[\"id\"].map(d_id)\n",
    "test = test.pivot(index=\"id\", columns=\"d\", values=\"sold\").reset_index()\n",
    "\n",
    "out_eva = pd.merge(left=sample_sub[30490:], right=test, on=\"id\")\n",
    "out_eva.columns=f_col\n",
    "\n",
    "submit = pd.concat([out_val,out_eva], ignore_index=True)"
   ]
  },
  {
   "cell_type": "code",
   "execution_count": 25,
   "id": "46b7e888",
   "metadata": {
    "execution": {
     "iopub.execute_input": "2023-06-10T11:07:47.408969Z",
     "iopub.status.busy": "2023-06-10T11:07:47.408466Z",
     "iopub.status.idle": "2023-06-10T11:07:47.481516Z",
     "shell.execute_reply": "2023-06-10T11:07:47.480645Z"
    },
    "papermill": {
     "duration": 0.093849,
     "end_time": "2023-06-10T11:07:47.484161",
     "exception": false,
     "start_time": "2023-06-10T11:07:47.390312",
     "status": "completed"
    },
    "tags": []
   },
   "outputs": [
    {
     "data": {
      "text/html": [
       "<div>\n",
       "<style scoped>\n",
       "    .dataframe tbody tr th:only-of-type {\n",
       "        vertical-align: middle;\n",
       "    }\n",
       "\n",
       "    .dataframe tbody tr th {\n",
       "        vertical-align: top;\n",
       "    }\n",
       "\n",
       "    .dataframe thead th {\n",
       "        text-align: right;\n",
       "    }\n",
       "</style>\n",
       "<table border=\"1\" class=\"dataframe\">\n",
       "  <thead>\n",
       "    <tr style=\"text-align: right;\">\n",
       "      <th></th>\n",
       "      <th>id</th>\n",
       "      <th>F1</th>\n",
       "      <th>F2</th>\n",
       "      <th>F3</th>\n",
       "      <th>F4</th>\n",
       "      <th>F5</th>\n",
       "      <th>F6</th>\n",
       "      <th>F7</th>\n",
       "      <th>F8</th>\n",
       "      <th>F9</th>\n",
       "      <th>...</th>\n",
       "      <th>F19</th>\n",
       "      <th>F20</th>\n",
       "      <th>F21</th>\n",
       "      <th>F22</th>\n",
       "      <th>F23</th>\n",
       "      <th>F24</th>\n",
       "      <th>F25</th>\n",
       "      <th>F26</th>\n",
       "      <th>F27</th>\n",
       "      <th>F28</th>\n",
       "    </tr>\n",
       "  </thead>\n",
       "  <tbody>\n",
       "    <tr>\n",
       "      <th>0</th>\n",
       "      <td>HOBBIES_1_001_CA_1_validation</td>\n",
       "      <td>0.920875</td>\n",
       "      <td>0.760546</td>\n",
       "      <td>0.757955</td>\n",
       "      <td>0.711162</td>\n",
       "      <td>0.828706</td>\n",
       "      <td>1.097972</td>\n",
       "      <td>1.029628</td>\n",
       "      <td>0.782116</td>\n",
       "      <td>0.771163</td>\n",
       "      <td>...</td>\n",
       "      <td>0.965307</td>\n",
       "      <td>1.217575</td>\n",
       "      <td>1.253032</td>\n",
       "      <td>0.949194</td>\n",
       "      <td>0.776976</td>\n",
       "      <td>0.754316</td>\n",
       "      <td>0.821256</td>\n",
       "      <td>0.919370</td>\n",
       "      <td>1.157267</td>\n",
       "      <td>1.143255</td>\n",
       "    </tr>\n",
       "    <tr>\n",
       "      <th>1</th>\n",
       "      <td>HOBBIES_1_002_CA_1_validation</td>\n",
       "      <td>0.380173</td>\n",
       "      <td>0.345906</td>\n",
       "      <td>0.326023</td>\n",
       "      <td>0.320066</td>\n",
       "      <td>0.366852</td>\n",
       "      <td>0.457072</td>\n",
       "      <td>0.417306</td>\n",
       "      <td>0.309664</td>\n",
       "      <td>0.265039</td>\n",
       "      <td>...</td>\n",
       "      <td>0.309420</td>\n",
       "      <td>0.445289</td>\n",
       "      <td>0.391920</td>\n",
       "      <td>0.304422</td>\n",
       "      <td>0.258979</td>\n",
       "      <td>0.242773</td>\n",
       "      <td>0.243011</td>\n",
       "      <td>0.281972</td>\n",
       "      <td>0.313900</td>\n",
       "      <td>0.258163</td>\n",
       "    </tr>\n",
       "    <tr>\n",
       "      <th>2</th>\n",
       "      <td>HOBBIES_1_003_CA_1_validation</td>\n",
       "      <td>0.564305</td>\n",
       "      <td>0.463523</td>\n",
       "      <td>0.446733</td>\n",
       "      <td>0.490597</td>\n",
       "      <td>0.567147</td>\n",
       "      <td>0.679917</td>\n",
       "      <td>0.638504</td>\n",
       "      <td>0.450915</td>\n",
       "      <td>0.444713</td>\n",
       "      <td>...</td>\n",
       "      <td>0.604698</td>\n",
       "      <td>0.730895</td>\n",
       "      <td>0.736315</td>\n",
       "      <td>0.620832</td>\n",
       "      <td>0.588095</td>\n",
       "      <td>0.631331</td>\n",
       "      <td>0.587575</td>\n",
       "      <td>0.695829</td>\n",
       "      <td>0.845153</td>\n",
       "      <td>0.874448</td>\n",
       "    </tr>\n",
       "    <tr>\n",
       "      <th>3</th>\n",
       "      <td>HOBBIES_1_004_CA_1_validation</td>\n",
       "      <td>1.943717</td>\n",
       "      <td>1.705169</td>\n",
       "      <td>1.613644</td>\n",
       "      <td>1.512644</td>\n",
       "      <td>1.807105</td>\n",
       "      <td>2.570215</td>\n",
       "      <td>2.556299</td>\n",
       "      <td>1.831783</td>\n",
       "      <td>1.535107</td>\n",
       "      <td>...</td>\n",
       "      <td>1.633205</td>\n",
       "      <td>2.468217</td>\n",
       "      <td>2.359394</td>\n",
       "      <td>1.754184</td>\n",
       "      <td>1.527192</td>\n",
       "      <td>1.558596</td>\n",
       "      <td>1.424226</td>\n",
       "      <td>1.664176</td>\n",
       "      <td>2.356025</td>\n",
       "      <td>2.691174</td>\n",
       "    </tr>\n",
       "    <tr>\n",
       "      <th>4</th>\n",
       "      <td>HOBBIES_1_005_CA_1_validation</td>\n",
       "      <td>1.085582</td>\n",
       "      <td>0.805124</td>\n",
       "      <td>0.994593</td>\n",
       "      <td>1.075440</td>\n",
       "      <td>1.204261</td>\n",
       "      <td>1.460079</td>\n",
       "      <td>1.508997</td>\n",
       "      <td>1.184461</td>\n",
       "      <td>1.091212</td>\n",
       "      <td>...</td>\n",
       "      <td>1.022125</td>\n",
       "      <td>1.350813</td>\n",
       "      <td>1.397258</td>\n",
       "      <td>0.984482</td>\n",
       "      <td>0.870272</td>\n",
       "      <td>0.861293</td>\n",
       "      <td>0.847483</td>\n",
       "      <td>1.174094</td>\n",
       "      <td>1.412847</td>\n",
       "      <td>1.572596</td>\n",
       "    </tr>\n",
       "    <tr>\n",
       "      <th>...</th>\n",
       "      <td>...</td>\n",
       "      <td>...</td>\n",
       "      <td>...</td>\n",
       "      <td>...</td>\n",
       "      <td>...</td>\n",
       "      <td>...</td>\n",
       "      <td>...</td>\n",
       "      <td>...</td>\n",
       "      <td>...</td>\n",
       "      <td>...</td>\n",
       "      <td>...</td>\n",
       "      <td>...</td>\n",
       "      <td>...</td>\n",
       "      <td>...</td>\n",
       "      <td>...</td>\n",
       "      <td>...</td>\n",
       "      <td>...</td>\n",
       "      <td>...</td>\n",
       "      <td>...</td>\n",
       "      <td>...</td>\n",
       "      <td>...</td>\n",
       "    </tr>\n",
       "    <tr>\n",
       "      <th>60975</th>\n",
       "      <td>FOODS_3_823_WI_3_evaluation</td>\n",
       "      <td>0.384847</td>\n",
       "      <td>0.408038</td>\n",
       "      <td>0.399819</td>\n",
       "      <td>0.446521</td>\n",
       "      <td>0.669699</td>\n",
       "      <td>0.741491</td>\n",
       "      <td>0.714729</td>\n",
       "      <td>0.493718</td>\n",
       "      <td>0.545130</td>\n",
       "      <td>...</td>\n",
       "      <td>0.716556</td>\n",
       "      <td>0.812492</td>\n",
       "      <td>0.818664</td>\n",
       "      <td>0.707584</td>\n",
       "      <td>0.669967</td>\n",
       "      <td>0.687489</td>\n",
       "      <td>0.541193</td>\n",
       "      <td>0.668842</td>\n",
       "      <td>0.658130</td>\n",
       "      <td>0.803895</td>\n",
       "    </tr>\n",
       "    <tr>\n",
       "      <th>60976</th>\n",
       "      <td>FOODS_3_824_WI_3_evaluation</td>\n",
       "      <td>0.270022</td>\n",
       "      <td>0.279047</td>\n",
       "      <td>0.287140</td>\n",
       "      <td>0.382968</td>\n",
       "      <td>0.445324</td>\n",
       "      <td>0.426837</td>\n",
       "      <td>0.386212</td>\n",
       "      <td>0.315894</td>\n",
       "      <td>0.361767</td>\n",
       "      <td>...</td>\n",
       "      <td>0.256865</td>\n",
       "      <td>0.288135</td>\n",
       "      <td>0.288428</td>\n",
       "      <td>0.264014</td>\n",
       "      <td>0.304923</td>\n",
       "      <td>0.301380</td>\n",
       "      <td>0.318282</td>\n",
       "      <td>0.309472</td>\n",
       "      <td>0.407646</td>\n",
       "      <td>0.374816</td>\n",
       "    </tr>\n",
       "    <tr>\n",
       "      <th>60977</th>\n",
       "      <td>FOODS_3_825_WI_3_evaluation</td>\n",
       "      <td>0.591817</td>\n",
       "      <td>0.572444</td>\n",
       "      <td>0.552542</td>\n",
       "      <td>0.585518</td>\n",
       "      <td>0.668301</td>\n",
       "      <td>0.906825</td>\n",
       "      <td>0.881910</td>\n",
       "      <td>0.703805</td>\n",
       "      <td>0.618025</td>\n",
       "      <td>...</td>\n",
       "      <td>1.110056</td>\n",
       "      <td>1.190463</td>\n",
       "      <td>1.152983</td>\n",
       "      <td>1.174852</td>\n",
       "      <td>1.085875</td>\n",
       "      <td>0.930320</td>\n",
       "      <td>0.695539</td>\n",
       "      <td>0.842074</td>\n",
       "      <td>1.003697</td>\n",
       "      <td>0.969664</td>\n",
       "    </tr>\n",
       "    <tr>\n",
       "      <th>60978</th>\n",
       "      <td>FOODS_3_826_WI_3_evaluation</td>\n",
       "      <td>0.940807</td>\n",
       "      <td>0.920369</td>\n",
       "      <td>0.996659</td>\n",
       "      <td>0.993060</td>\n",
       "      <td>1.099301</td>\n",
       "      <td>1.351013</td>\n",
       "      <td>1.253780</td>\n",
       "      <td>0.974163</td>\n",
       "      <td>0.892712</td>\n",
       "      <td>...</td>\n",
       "      <td>1.291240</td>\n",
       "      <td>1.706234</td>\n",
       "      <td>1.398037</td>\n",
       "      <td>1.310340</td>\n",
       "      <td>1.664076</td>\n",
       "      <td>1.605405</td>\n",
       "      <td>1.415688</td>\n",
       "      <td>1.467283</td>\n",
       "      <td>1.614603</td>\n",
       "      <td>1.315356</td>\n",
       "    </tr>\n",
       "    <tr>\n",
       "      <th>60979</th>\n",
       "      <td>FOODS_3_827_WI_3_evaluation</td>\n",
       "      <td>1.156041</td>\n",
       "      <td>1.185761</td>\n",
       "      <td>1.263422</td>\n",
       "      <td>1.267007</td>\n",
       "      <td>1.204365</td>\n",
       "      <td>1.483095</td>\n",
       "      <td>1.333900</td>\n",
       "      <td>1.267087</td>\n",
       "      <td>1.199211</td>\n",
       "      <td>...</td>\n",
       "      <td>1.776552</td>\n",
       "      <td>1.931269</td>\n",
       "      <td>1.662128</td>\n",
       "      <td>1.484104</td>\n",
       "      <td>1.616458</td>\n",
       "      <td>1.775389</td>\n",
       "      <td>1.859199</td>\n",
       "      <td>1.695337</td>\n",
       "      <td>2.556894</td>\n",
       "      <td>1.924783</td>\n",
       "    </tr>\n",
       "  </tbody>\n",
       "</table>\n",
       "<p>60980 rows × 29 columns</p>\n",
       "</div>"
      ],
      "text/plain": [
       "                                  id        F1        F2        F3        F4  \\\n",
       "0      HOBBIES_1_001_CA_1_validation  0.920875  0.760546  0.757955  0.711162   \n",
       "1      HOBBIES_1_002_CA_1_validation  0.380173  0.345906  0.326023  0.320066   \n",
       "2      HOBBIES_1_003_CA_1_validation  0.564305  0.463523  0.446733  0.490597   \n",
       "3      HOBBIES_1_004_CA_1_validation  1.943717  1.705169  1.613644  1.512644   \n",
       "4      HOBBIES_1_005_CA_1_validation  1.085582  0.805124  0.994593  1.075440   \n",
       "...                              ...       ...       ...       ...       ...   \n",
       "60975    FOODS_3_823_WI_3_evaluation  0.384847  0.408038  0.399819  0.446521   \n",
       "60976    FOODS_3_824_WI_3_evaluation  0.270022  0.279047  0.287140  0.382968   \n",
       "60977    FOODS_3_825_WI_3_evaluation  0.591817  0.572444  0.552542  0.585518   \n",
       "60978    FOODS_3_826_WI_3_evaluation  0.940807  0.920369  0.996659  0.993060   \n",
       "60979    FOODS_3_827_WI_3_evaluation  1.156041  1.185761  1.263422  1.267007   \n",
       "\n",
       "             F5        F6        F7        F8        F9  ...       F19  \\\n",
       "0      0.828706  1.097972  1.029628  0.782116  0.771163  ...  0.965307   \n",
       "1      0.366852  0.457072  0.417306  0.309664  0.265039  ...  0.309420   \n",
       "2      0.567147  0.679917  0.638504  0.450915  0.444713  ...  0.604698   \n",
       "3      1.807105  2.570215  2.556299  1.831783  1.535107  ...  1.633205   \n",
       "4      1.204261  1.460079  1.508997  1.184461  1.091212  ...  1.022125   \n",
       "...         ...       ...       ...       ...       ...  ...       ...   \n",
       "60975  0.669699  0.741491  0.714729  0.493718  0.545130  ...  0.716556   \n",
       "60976  0.445324  0.426837  0.386212  0.315894  0.361767  ...  0.256865   \n",
       "60977  0.668301  0.906825  0.881910  0.703805  0.618025  ...  1.110056   \n",
       "60978  1.099301  1.351013  1.253780  0.974163  0.892712  ...  1.291240   \n",
       "60979  1.204365  1.483095  1.333900  1.267087  1.199211  ...  1.776552   \n",
       "\n",
       "            F20       F21       F22       F23       F24       F25       F26  \\\n",
       "0      1.217575  1.253032  0.949194  0.776976  0.754316  0.821256  0.919370   \n",
       "1      0.445289  0.391920  0.304422  0.258979  0.242773  0.243011  0.281972   \n",
       "2      0.730895  0.736315  0.620832  0.588095  0.631331  0.587575  0.695829   \n",
       "3      2.468217  2.359394  1.754184  1.527192  1.558596  1.424226  1.664176   \n",
       "4      1.350813  1.397258  0.984482  0.870272  0.861293  0.847483  1.174094   \n",
       "...         ...       ...       ...       ...       ...       ...       ...   \n",
       "60975  0.812492  0.818664  0.707584  0.669967  0.687489  0.541193  0.668842   \n",
       "60976  0.288135  0.288428  0.264014  0.304923  0.301380  0.318282  0.309472   \n",
       "60977  1.190463  1.152983  1.174852  1.085875  0.930320  0.695539  0.842074   \n",
       "60978  1.706234  1.398037  1.310340  1.664076  1.605405  1.415688  1.467283   \n",
       "60979  1.931269  1.662128  1.484104  1.616458  1.775389  1.859199  1.695337   \n",
       "\n",
       "            F27       F28  \n",
       "0      1.157267  1.143255  \n",
       "1      0.313900  0.258163  \n",
       "2      0.845153  0.874448  \n",
       "3      2.356025  2.691174  \n",
       "4      1.412847  1.572596  \n",
       "...         ...       ...  \n",
       "60975  0.658130  0.803895  \n",
       "60976  0.407646  0.374816  \n",
       "60977  1.003697  0.969664  \n",
       "60978  1.614603  1.315356  \n",
       "60979  2.556894  1.924783  \n",
       "\n",
       "[60980 rows x 29 columns]"
      ]
     },
     "execution_count": 25,
     "metadata": {},
     "output_type": "execute_result"
    }
   ],
   "source": [
    "submit"
   ]
  },
  {
   "cell_type": "code",
   "execution_count": 26,
   "id": "199b30a3",
   "metadata": {
    "execution": {
     "iopub.execute_input": "2023-06-10T11:07:47.522474Z",
     "iopub.status.busy": "2023-06-10T11:07:47.521450Z",
     "iopub.status.idle": "2023-06-10T11:07:51.414491Z",
     "shell.execute_reply": "2023-06-10T11:07:51.413329Z"
    },
    "papermill": {
     "duration": 3.914765,
     "end_time": "2023-06-10T11:07:51.417190",
     "exception": false,
     "start_time": "2023-06-10T11:07:47.502425",
     "status": "completed"
    },
    "tags": []
   },
   "outputs": [],
   "source": [
    "submit.to_csv('submission.csv',index=False)"
   ]
  },
  {
   "cell_type": "code",
   "execution_count": null,
   "id": "6891e786",
   "metadata": {
    "papermill": {
     "duration": 0.018157,
     "end_time": "2023-06-10T11:07:51.454271",
     "exception": false,
     "start_time": "2023-06-10T11:07:51.436114",
     "status": "completed"
    },
    "tags": []
   },
   "outputs": [],
   "source": []
  }
 ],
 "metadata": {
  "kernelspec": {
   "display_name": "Python 3",
   "language": "python",
   "name": "python3"
  },
  "language_info": {
   "codemirror_mode": {
    "name": "ipython",
    "version": 3
   },
   "file_extension": ".py",
   "mimetype": "text/x-python",
   "name": "python",
   "nbconvert_exporter": "python",
   "pygments_lexer": "ipython3",
   "version": "3.10.10"
  },
  "papermill": {
   "default_parameters": {},
   "duration": 3350.62103,
   "end_time": "2023-06-10T11:07:54.017439",
   "environment_variables": {},
   "exception": null,
   "input_path": "__notebook__.ipynb",
   "output_path": "__notebook__.ipynb",
   "parameters": {},
   "start_time": "2023-06-10T10:12:03.396409",
   "version": "2.4.0"
  }
 },
 "nbformat": 4,
 "nbformat_minor": 5
}
