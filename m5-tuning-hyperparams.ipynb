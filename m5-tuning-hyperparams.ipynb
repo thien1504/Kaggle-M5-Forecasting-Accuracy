{
 "cells": [
  {
   "cell_type": "code",
   "execution_count": 1,
   "id": "62424ef2",
   "metadata": {
    "_cell_guid": "b1076dfc-b9ad-4769-8c92-a6c4dae69d19",
    "_uuid": "8f2839f25d086af736a60e9eeb907d3b93b6e0e5",
    "execution": {
     "iopub.execute_input": "2023-06-06T04:07:58.114500Z",
     "iopub.status.busy": "2023-06-06T04:07:58.113579Z",
     "iopub.status.idle": "2023-06-06T04:08:01.434759Z",
     "shell.execute_reply": "2023-06-06T04:08:01.433716Z"
    },
    "papermill": {
     "duration": 3.333281,
     "end_time": "2023-06-06T04:08:01.437435",
     "exception": false,
     "start_time": "2023-06-06T04:07:58.104154",
     "status": "completed"
    },
    "tags": []
   },
   "outputs": [],
   "source": [
    "import os\n",
    "import pandas as pd\n",
    "import warnings\n",
    "warnings.filterwarnings('ignore')\n",
    "import numpy as np\n",
    "import matplotlib.pyplot as plt\n",
    "import random\n",
    "import gc\n",
    "import lightgbm as lgb\n",
    "import joblib\n",
    "from lightgbm import LGBMRegressor\n",
    "from hyperopt import hp, tpe, fmin, Trials, rand, anneal"
   ]
  },
  {
   "cell_type": "code",
   "execution_count": 2,
   "id": "65e8f1ce",
   "metadata": {
    "execution": {
     "iopub.execute_input": "2023-06-06T04:08:01.452681Z",
     "iopub.status.busy": "2023-06-06T04:08:01.452307Z",
     "iopub.status.idle": "2023-06-06T04:08:12.267867Z",
     "shell.execute_reply": "2023-06-06T04:08:12.266449Z"
    },
    "papermill": {
     "duration": 10.826023,
     "end_time": "2023-06-06T04:08:12.270367",
     "exception": false,
     "start_time": "2023-06-06T04:08:01.444344",
     "status": "completed"
    },
    "tags": []
   },
   "outputs": [
    {
     "name": "stdout",
     "output_type": "stream",
     "text": [
      "CPU times: user 7.16 s, sys: 1.09 s, total: 8.25 s\n",
      "Wall time: 10.8 s\n"
     ]
    }
   ],
   "source": [
    "%%time\n",
    "base_path = \"/kaggle/input/m5-forecasting-accuracy/\"\n",
    "calendar = pd.read_csv(f\"{base_path}calendar.csv\")\n",
    "train_eva = pd.read_csv(f\"{base_path}sales_train_evaluation.csv\")\n",
    "sell_prices = pd.read_csv(f\"{base_path}sell_prices.csv\")\n",
    "sample_sub = pd.read_csv(f\"{base_path}sample_submission.csv\")"
   ]
  },
  {
   "cell_type": "code",
   "execution_count": 3,
   "id": "5b908592",
   "metadata": {
    "execution": {
     "iopub.execute_input": "2023-06-06T04:08:12.286274Z",
     "iopub.status.busy": "2023-06-06T04:08:12.285842Z",
     "iopub.status.idle": "2023-06-06T04:08:12.333335Z",
     "shell.execute_reply": "2023-06-06T04:08:12.332176Z"
    },
    "papermill": {
     "duration": 0.058085,
     "end_time": "2023-06-06T04:08:12.335706",
     "exception": false,
     "start_time": "2023-06-06T04:08:12.277621",
     "status": "completed"
    },
    "tags": []
   },
   "outputs": [],
   "source": [
    "# Add more columns in file train\n",
    "for d in range(1942,1970):\n",
    "    col = 'd_' + str(d)\n",
    "    train_eva[col] = 0\n",
    "    train_eva[col] = train_eva[col].astype(np.int16)"
   ]
  },
  {
   "cell_type": "code",
   "execution_count": 4,
   "id": "a1895646",
   "metadata": {
    "execution": {
     "iopub.execute_input": "2023-06-06T04:08:12.354070Z",
     "iopub.status.busy": "2023-06-06T04:08:12.353688Z",
     "iopub.status.idle": "2023-06-06T04:08:12.367074Z",
     "shell.execute_reply": "2023-06-06T04:08:12.365996Z"
    },
    "papermill": {
     "duration": 0.024351,
     "end_time": "2023-06-06T04:08:12.369441",
     "exception": false,
     "start_time": "2023-06-06T04:08:12.345090",
     "status": "completed"
    },
    "tags": []
   },
   "outputs": [],
   "source": [
    "def downcast(df):\n",
    "    cols = df.dtypes.index.tolist()\n",
    "    types = df.dtypes.values.tolist()\n",
    "    for i,t in enumerate(types):\n",
    "        if 'int' in str(t):\n",
    "            if df[cols[i]].min() > np.iinfo(np.int8).min and df[cols[i]].max() < np.iinfo(np.int8).max:\n",
    "                df[cols[i]] = df[cols[i]].astype(np.int8)\n",
    "            elif df[cols[i]].min() > np.iinfo(np.int16).min and df[cols[i]].max() < np.iinfo(np.int16).max:\n",
    "                df[cols[i]] = df[cols[i]].astype(np.int16)\n",
    "            elif df[cols[i]].min() > np.iinfo(np.int32).min and df[cols[i]].max() < np.iinfo(np.int32).max:\n",
    "                df[cols[i]] = df[cols[i]].astype(np.int32)\n",
    "            else:\n",
    "                df[cols[i]] = df[cols[i]].astype(np.int64)\n",
    "        elif 'float' in str(t):\n",
    "            if df[cols[i]].min() > np.finfo(np.float16).min and df[cols[i]].max() < np.finfo(np.float16).max:\n",
    "                df[cols[i]] = df[cols[i]].astype(np.float16)\n",
    "            elif df[cols[i]].min() > np.finfo(np.float32).min and df[cols[i]].max() < np.finfo(np.float32).max:\n",
    "                df[cols[i]] = df[cols[i]].astype(np.float32)\n",
    "            else:\n",
    "                df[cols[i]] = df[cols[i]].astype(np.float64)\n",
    "        elif t == np.object:\n",
    "            if cols[i] == 'date':\n",
    "                df[cols[i]] = pd.to_datetime(df[cols[i]], format='%Y-%m-%d')\n",
    "            else:\n",
    "                df[cols[i]] = df[cols[i]].astype('category')\n",
    "    return df  "
   ]
  },
  {
   "cell_type": "code",
   "execution_count": 5,
   "id": "38ea45f9",
   "metadata": {
    "execution": {
     "iopub.execute_input": "2023-06-06T04:08:12.385445Z",
     "iopub.status.busy": "2023-06-06T04:08:12.385037Z",
     "iopub.status.idle": "2023-06-06T04:11:12.426750Z",
     "shell.execute_reply": "2023-06-06T04:11:12.425474Z"
    },
    "papermill": {
     "duration": 180.059514,
     "end_time": "2023-06-06T04:11:12.435977",
     "exception": false,
     "start_time": "2023-06-06T04:08:12.376463",
     "status": "completed"
    },
    "tags": []
   },
   "outputs": [
    {
     "name": "stdout",
     "output_type": "stream",
     "text": [
      "Downcasting data\n",
      "CPU times: user 1min 33s, sys: 1min 26s, total: 2min 59s\n",
      "Wall time: 3min\n"
     ]
    }
   ],
   "source": [
    "%%time\n",
    "print(\"Downcasting data\")\n",
    "train_eva = downcast(train_eva)\n",
    "sell_prices = downcast(sell_prices)\n",
    "calendar = downcast(calendar)"
   ]
  },
  {
   "cell_type": "code",
   "execution_count": 6,
   "id": "5a23c72a",
   "metadata": {
    "execution": {
     "iopub.execute_input": "2023-06-06T04:11:12.453220Z",
     "iopub.status.busy": "2023-06-06T04:11:12.452777Z",
     "iopub.status.idle": "2023-06-06T04:11:22.028819Z",
     "shell.execute_reply": "2023-06-06T04:11:22.027500Z"
    },
    "papermill": {
     "duration": 9.587898,
     "end_time": "2023-06-06T04:11:22.031026",
     "exception": false,
     "start_time": "2023-06-06T04:11:12.443128",
     "status": "completed"
    },
    "tags": []
   },
   "outputs": [
    {
     "name": "stdout",
     "output_type": "stream",
     "text": [
      "Melting data\n",
      "CPU times: user 6.32 s, sys: 3.25 s, total: 9.57 s\n",
      "Wall time: 9.57 s\n"
     ]
    }
   ],
   "source": [
    "%%time\n",
    "print(\"Melting data\")\n",
    "df = pd.melt(frame=train_eva, \n",
    "             id_vars=[\"id\", \"item_id\", \"dept_id\", \"cat_id\", \"store_id\", \"state_id\"],\n",
    "             var_name=\"d\", value_name=\"sold\")"
   ]
  },
  {
   "cell_type": "code",
   "execution_count": 7,
   "id": "b48219de",
   "metadata": {
    "execution": {
     "iopub.execute_input": "2023-06-06T04:11:22.047289Z",
     "iopub.status.busy": "2023-06-06T04:11:22.046851Z",
     "iopub.status.idle": "2023-06-06T04:12:01.377921Z",
     "shell.execute_reply": "2023-06-06T04:12:01.377008Z"
    },
    "papermill": {
     "duration": 39.348324,
     "end_time": "2023-06-06T04:12:01.386539",
     "exception": false,
     "start_time": "2023-06-06T04:11:22.038215",
     "status": "completed"
    },
    "tags": []
   },
   "outputs": [
    {
     "name": "stdout",
     "output_type": "stream",
     "text": [
      "Merging data\n",
      "CPU times: user 30.1 s, sys: 9.26 s, total: 39.3 s\n",
      "Wall time: 39.3 s\n"
     ]
    }
   ],
   "source": [
    "%%time\n",
    "print(\"Merging data\")\n",
    "df = pd.merge(left=df, right=calendar, how=\"left\", on=\"d\")\n",
    "df = pd.merge(left=df, right=sell_prices, on=[\"store_id\", \"item_id\", \"wm_yr_wk\"], how=\"left\")"
   ]
  },
  {
   "cell_type": "code",
   "execution_count": 8,
   "id": "f97f5a40",
   "metadata": {
    "execution": {
     "iopub.execute_input": "2023-06-06T04:12:01.402950Z",
     "iopub.status.busy": "2023-06-06T04:12:01.402239Z",
     "iopub.status.idle": "2023-06-06T04:12:32.288212Z",
     "shell.execute_reply": "2023-06-06T04:12:32.286946Z"
    },
    "papermill": {
     "duration": 30.899674,
     "end_time": "2023-06-06T04:12:32.293326",
     "exception": false,
     "start_time": "2023-06-06T04:12:01.393652",
     "status": "completed"
    },
    "tags": []
   },
   "outputs": [
    {
     "name": "stdout",
     "output_type": "stream",
     "text": [
      "Implement features\n",
      "CPU times: user 27.1 s, sys: 3.79 s, total: 30.9 s\n",
      "Wall time: 30.9 s\n"
     ]
    }
   ],
   "source": [
    "%%time\n",
    "print(\"Implement features\")\n",
    "#Calculate the SNAP (Supplemental Nutrition Assistance Program) day for each state\n",
    "df[\"snap\"] = df[\"snap_CA\"] + df[\"snap_TX\"] + df[\"snap_WI\"]\n",
    "df[\"snap\"] = np.where(df[\"snap\"] >= 1, 1, 0).astype(np.int8)\n",
    "\n",
    "# Apply int for day column\n",
    "df[\"d\"] = df[\"d\"].str[2:].astype(np.int16)\n",
    "\n",
    "# Process NaN value\n",
    "df[\"sell_price\"] = df['sell_price'].fillna(df.groupby('id')['sell_price'].transform('median'))\n",
    "\n",
    "# Is it a weekend\n",
    "df[\"weekend\"] = np.where(df[\"wday\"] < 3, 1, 0).astype(np.int8)\n",
    "\n",
    "# Drop unnecessary columns\n",
    "df = df.drop([\"date\", \"weekday\", \"wm_yr_wk\", \"event_name_2\", \"event_type_2\", \"snap_CA\", \"snap_TX\", \"snap_WI\"], axis=1)"
   ]
  },
  {
   "cell_type": "code",
   "execution_count": 9,
   "id": "cfebde87",
   "metadata": {
    "execution": {
     "iopub.execute_input": "2023-06-06T04:12:32.309844Z",
     "iopub.status.busy": "2023-06-06T04:12:32.309482Z",
     "iopub.status.idle": "2023-06-06T04:12:58.155778Z",
     "shell.execute_reply": "2023-06-06T04:12:58.154644Z"
    },
    "papermill": {
     "duration": 25.857995,
     "end_time": "2023-06-06T04:12:58.158533",
     "exception": false,
     "start_time": "2023-06-06T04:12:32.300538",
     "status": "completed"
    },
    "tags": []
   },
   "outputs": [
    {
     "name": "stdout",
     "output_type": "stream",
     "text": [
      "Label Encoding\n"
     ]
    }
   ],
   "source": [
    "# Label Encoder\n",
    "print(\"Label Encoding\")\n",
    "d_id = dict(zip(df[\"id\"].cat.codes, df[\"id\"]))\n",
    "d_store = dict(zip(df[\"store_id\"].cat.codes, df[\"store_id\"]))\n",
    "df[\"id\"] = df[\"id\"].cat.codes\n",
    "df[\"item_id\"] = df[\"item_id\"].cat.codes\n",
    "df[\"dept_id\"] = df[\"dept_id\"].cat.codes\n",
    "df[\"cat_id\"] = df[\"cat_id\"].cat.codes\n",
    "df[\"store_id\"] = df[\"store_id\"].cat.codes\n",
    "df[\"state_id\"] = df[\"state_id\"].cat.codes\n",
    "df[\"event_name_1\"] = df[\"event_name_1\"].cat.codes\n",
    "df[\"event_type_1\"] = df[\"event_type_1\"].cat.codes"
   ]
  },
  {
   "cell_type": "code",
   "execution_count": 10,
   "id": "d171ebee",
   "metadata": {
    "execution": {
     "iopub.execute_input": "2023-06-06T04:12:58.175764Z",
     "iopub.status.busy": "2023-06-06T04:12:58.174808Z",
     "iopub.status.idle": "2023-06-06T04:18:32.073025Z",
     "shell.execute_reply": "2023-06-06T04:18:32.071858Z"
    },
    "papermill": {
     "duration": 333.916375,
     "end_time": "2023-06-06T04:18:32.082381",
     "exception": false,
     "start_time": "2023-06-06T04:12:58.166006",
     "status": "completed"
    },
    "tags": []
   },
   "outputs": [
    {
     "name": "stdout",
     "output_type": "stream",
     "text": [
      "Calulating Lags and Rolling mean\n",
      "CPU times: user 4min 50s, sys: 43.4 s, total: 5min 33s\n",
      "Wall time: 5min 33s\n"
     ]
    }
   ],
   "source": [
    "%%time\n",
    "print(\"Calulating Lags and Rolling mean\")\n",
    "# Lags must be > 28\n",
    "lags = [29,30,31,32,33,34,35,40,55,60,65,180]\n",
    "for lag in lags:\n",
    "    df['sold_lag_'+str(lag)] = df.groupby(['id', 'item_id', 'dept_id', 'cat_id', 'store_id', 'state_id'],as_index=False)['sold'].shift(lag).astype(np.float16)\n",
    "    \n",
    "df['rolling_mean_7']   = df.groupby(['id'])['sold'].transform(lambda x: x.shift(28).rolling(7).mean())\n",
    "df['rolling_mean_14']   = df.groupby(['id'])['sold'].transform(lambda x: x.shift(28).rolling(14).mean())\n",
    "df['rolling_mean_30']  = df.groupby(['id'])['sold'].transform(lambda x: x.shift(28).rolling(30).mean())\n",
    "df['rolling_mean_60']  = df.groupby(['id'])['sold'].transform(lambda x: x.shift(28).rolling(60).mean())\n",
    "df['rolling_mean_180']  = df.groupby(['id'])['sold'].transform(lambda x: x.shift(28).rolling(180).mean())"
   ]
  },
  {
   "cell_type": "code",
   "execution_count": 11,
   "id": "351e87d8",
   "metadata": {
    "execution": {
     "iopub.execute_input": "2023-06-06T04:18:32.099047Z",
     "iopub.status.busy": "2023-06-06T04:18:32.098678Z",
     "iopub.status.idle": "2023-06-06T04:18:44.476492Z",
     "shell.execute_reply": "2023-06-06T04:18:44.475248Z"
    },
    "papermill": {
     "duration": 12.389114,
     "end_time": "2023-06-06T04:18:44.479003",
     "exception": false,
     "start_time": "2023-06-06T04:18:32.089889",
     "status": "completed"
    },
    "tags": []
   },
   "outputs": [],
   "source": [
    "df = df[df[\"d\"] > 28+180]"
   ]
  },
  {
   "cell_type": "code",
   "execution_count": 12,
   "id": "a01c315f",
   "metadata": {
    "execution": {
     "iopub.execute_input": "2023-06-06T04:18:44.496132Z",
     "iopub.status.busy": "2023-06-06T04:18:44.495750Z",
     "iopub.status.idle": "2023-06-06T04:19:06.102506Z",
     "shell.execute_reply": "2023-06-06T04:19:06.099623Z"
    },
    "papermill": {
     "duration": 21.632765,
     "end_time": "2023-06-06T04:19:06.119503",
     "exception": false,
     "start_time": "2023-06-06T04:18:44.486738",
     "status": "completed"
    },
    "tags": []
   },
   "outputs": [
    {
     "data": {
      "text/plain": [
       "0"
      ]
     },
     "execution_count": 12,
     "metadata": {},
     "output_type": "execute_result"
    }
   ],
   "source": [
    "# Save dataframe\n",
    "df.to_pickle('data.pkl')\n",
    "del df\n",
    "gc.collect()"
   ]
  },
  {
   "cell_type": "code",
   "execution_count": 13,
   "id": "a8b6b35b",
   "metadata": {
    "execution": {
     "iopub.execute_input": "2023-06-06T04:19:08.364513Z",
     "iopub.status.busy": "2023-06-06T04:19:08.363728Z",
     "iopub.status.idle": "2023-06-06T04:19:21.701551Z",
     "shell.execute_reply": "2023-06-06T04:19:21.700181Z"
    },
    "papermill": {
     "duration": 13.586922,
     "end_time": "2023-06-06T04:19:21.704658",
     "exception": false,
     "start_time": "2023-06-06T04:19:08.117736",
     "status": "completed"
    },
    "tags": []
   },
   "outputs": [
    {
     "name": "stdout",
     "output_type": "stream",
     "text": [
      "CPU times: user 347 ms, sys: 12.9 s, total: 13.3 s\n",
      "Wall time: 13.3 s\n"
     ]
    }
   ],
   "source": [
    "%%time\n",
    "data = pd.read_pickle('data.pkl')\n",
    "valid = data[(data['d']>=1914) & (data['d']<1942)][['id','d','sold']]\n",
    "test = data[data['d']>=1942][['id','d','sold']]"
   ]
  },
  {
   "cell_type": "code",
   "execution_count": 14,
   "id": "189fd35d",
   "metadata": {
    "execution": {
     "iopub.execute_input": "2023-06-06T04:19:21.723458Z",
     "iopub.status.busy": "2023-06-06T04:19:21.723017Z",
     "iopub.status.idle": "2023-06-06T04:19:21.730136Z",
     "shell.execute_reply": "2023-06-06T04:19:21.729287Z"
    },
    "papermill": {
     "duration": 0.019354,
     "end_time": "2023-06-06T04:19:21.732313",
     "exception": false,
     "start_time": "2023-06-06T04:19:21.712959",
     "status": "completed"
    },
    "tags": []
   },
   "outputs": [],
   "source": [
    "train_eva.columns = list(train_eva.columns[:6]) + [i for i in range(1, 1970)]\n",
    "days_train = [i for i in range(1, 1914)]\n",
    "days_valid = [i for i in range(1914, 1942)]"
   ]
  },
  {
   "cell_type": "code",
   "execution_count": 15,
   "id": "78b8cbd5",
   "metadata": {
    "execution": {
     "iopub.execute_input": "2023-06-06T04:19:21.750208Z",
     "iopub.status.busy": "2023-06-06T04:19:21.749787Z",
     "iopub.status.idle": "2023-06-06T04:19:21.754621Z",
     "shell.execute_reply": "2023-06-06T04:19:21.753532Z"
    },
    "papermill": {
     "duration": 0.016209,
     "end_time": "2023-06-06T04:19:21.756661",
     "exception": false,
     "start_time": "2023-06-06T04:19:21.740452",
     "status": "completed"
    },
    "tags": []
   },
   "outputs": [],
   "source": [
    "best_params_store = dict()"
   ]
  },
  {
   "cell_type": "code",
   "execution_count": 16,
   "id": "75cd152a",
   "metadata": {
    "execution": {
     "iopub.execute_input": "2023-06-06T04:19:21.775418Z",
     "iopub.status.busy": "2023-06-06T04:19:21.774736Z",
     "iopub.status.idle": "2023-06-06T04:19:21.781412Z",
     "shell.execute_reply": "2023-06-06T04:19:21.780610Z"
    },
    "papermill": {
     "duration": 0.017984,
     "end_time": "2023-06-06T04:19:21.783488",
     "exception": false,
     "start_time": "2023-06-06T04:19:21.765504",
     "status": "completed"
    },
    "tags": []
   },
   "outputs": [],
   "source": [
    "space = {\n",
    "    'learning_rate': hp.quniform('learning_rate', 0.2, 0.3, 0.1),\n",
    "    'subsample': hp.quniform('subsample', 0.8, 1.0, 0.1),\n",
    "    'colsample_bytree': hp.quniform('colsample_bytree', 0.8, 1.0, 0.1),\n",
    "    'min_child_weight':hp.quniform('min_child_weight', 200, 400, 100),\n",
    "    'max_depth':hp.quniform('max_depth', 7,8,1),\n",
    "    'num_leaves':hp.quniform('num_leaves', 200, 250, 50)\n",
    "}"
   ]
  },
  {
   "cell_type": "code",
   "execution_count": 17,
   "id": "2d91ac29",
   "metadata": {
    "execution": {
     "iopub.execute_input": "2023-06-06T04:19:21.801224Z",
     "iopub.status.busy": "2023-06-06T04:19:21.800587Z",
     "iopub.status.idle": "2023-06-06T04:19:21.805553Z",
     "shell.execute_reply": "2023-06-06T04:19:21.804730Z"
    },
    "papermill": {
     "duration": 0.016119,
     "end_time": "2023-06-06T04:19:21.807573",
     "exception": false,
     "start_time": "2023-06-06T04:19:21.791454",
     "status": "completed"
    },
    "tags": []
   },
   "outputs": [],
   "source": [
    "space_small = {\n",
    "    'learning_rate': hp.quniform('learning_rate', 0.2, 0.3, 0.1),\n",
    "}"
   ]
  },
  {
   "cell_type": "code",
   "execution_count": 18,
   "id": "81d77a48",
   "metadata": {
    "execution": {
     "iopub.execute_input": "2023-06-06T04:19:21.825919Z",
     "iopub.status.busy": "2023-06-06T04:19:21.825247Z",
     "iopub.status.idle": "2023-06-06T04:19:21.834347Z",
     "shell.execute_reply": "2023-06-06T04:19:21.833448Z"
    },
    "papermill": {
     "duration": 0.021204,
     "end_time": "2023-06-06T04:19:21.836583",
     "exception": false,
     "start_time": "2023-06-06T04:19:21.815379",
     "status": "completed"
    },
    "tags": []
   },
   "outputs": [],
   "source": [
    "def objective(params):\n",
    "    params = {'learning_rate': params['learning_rate'],\n",
    "              'max_depth': int(params['max_depth']),\n",
    "              'num_leaves': int(params['num_leaves']),\n",
    "              'subsample': params['subsample'],\n",
    "              'colsample_bytree': params['colsample_bytree'],\n",
    "              'min_child_weight': params['min_child_weight'],\n",
    "              'force_row_wise': True,\n",
    "              'objective' : 'tweedie',\n",
    "              'verbose': -1,\n",
    "              'n_estimators': 1000,\n",
    "              'boosting_type': 'gbdt'\n",
    "             }\n",
    "    \n",
    "    model = lgb.train(params=params,\n",
    "                      train_set=train_sets,\n",
    "                      valid_sets=valid_sets,\n",
    "                      verbose_eval=False,\n",
    "                      early_stopping_rounds=50)\n",
    "    \n",
    "    pred_val = model.predict(X_valid)\n",
    "    valid.loc[X_valid.index, \"sold\"] = pred_val\n",
    "    \n",
    "    out_df = valid[valid[\"id\"].map(d_id).str.contains(d_store[i])]\n",
    "    out_df[\"id\"] = out_df[\"id\"].map(d_id)\n",
    "    out_df = out_df.pivot(index=\"id\", columns=\"d\", values=\"sold\").reset_index()\n",
    "    \n",
    "    model_pred = np.array(out_df[days_valid])\n",
    "    y_true_model = store_df[days_valid]\n",
    "    model_mse = np.mean((model_pred - y_true_model) ** 2, axis=1)\n",
    "    \n",
    "    avg_rmsse = np.sqrt(model_mse / naive_mse).mean()\n",
    "    \n",
    "    return avg_rmsse"
   ]
  },
  {
   "cell_type": "code",
   "execution_count": 19,
   "id": "ab613225",
   "metadata": {
    "execution": {
     "iopub.execute_input": "2023-06-06T04:19:21.855635Z",
     "iopub.status.busy": "2023-06-06T04:19:21.854963Z",
     "iopub.status.idle": "2023-06-06T07:24:31.664242Z",
     "shell.execute_reply": "2023-06-06T07:24:31.662644Z"
    },
    "papermill": {
     "duration": 11109.822173,
     "end_time": "2023-06-06T07:24:31.666866",
     "exception": false,
     "start_time": "2023-06-06T04:19:21.844693",
     "status": "completed"
    },
    "tags": []
   },
   "outputs": [
    {
     "name": "stdout",
     "output_type": "stream",
     "text": [
      "Tuning Params for CA_1\n",
      "100%|██████████| 20/20 [20:58<00:00, 62.92s/trial, best loss: 0.886464100979618]\n",
      "Tuning Params for CA_2\n",
      "100%|██████████| 20/20 [13:53<00:00, 41.68s/trial, best loss: 1.0755698703653969]\n",
      "Tuning Params for CA_3\n",
      "100%|██████████| 20/20 [26:22<00:00, 79.12s/trial, best loss: 0.8881425189123906]\n",
      "Tuning Params for CA_4\n",
      "100%|██████████| 20/20 [15:51<00:00, 47.57s/trial, best loss: 0.9364545048411325]\n",
      "Tuning Params for TX_1\n",
      "100%|██████████| 20/20 [16:47<00:00, 50.38s/trial, best loss: 0.8465761321478558]\n",
      "Tuning Params for TX_2\n",
      "100%|██████████| 20/20 [14:31<00:00, 43.55s/trial, best loss: 0.8273609903872214]\n",
      "Tuning Params for TX_3\n",
      "100%|██████████| 20/20 [19:47<00:00, 59.37s/trial, best loss: 0.9235097451828289]\n",
      "Tuning Params for WI_1\n",
      "100%|██████████| 20/20 [19:40<00:00, 59.01s/trial, best loss: 0.9303204381245787]\n",
      "Tuning Params for WI_2\n",
      "100%|██████████| 20/20 [18:13<00:00, 54.68s/trial, best loss: 0.9554410820012081]\n",
      "Tuning Params for WI_3\n",
      "100%|██████████| 20/20 [18:18<00:00, 54.91s/trial, best loss: 0.8932631173504992]\n"
     ]
    }
   ],
   "source": [
    "for i in range(10):\n",
    "    df = data[data[\"store_id\"] == i]\n",
    "    \n",
    "    print(\"Tuning Params for\",d_store[i])\n",
    "    store_df = train_eva[train_eva[\"id\"].str.contains(d_store[i])].sort_values(\"id\")\n",
    "    \n",
    "    #Naive's mse for store\n",
    "    naive_predict = np.array(store_df[days_train].drop(1913, axis=1)).astype(np.int32)\n",
    "    y_true_naive = np.array(store_df[days_train].drop(1, axis=1)).astype(np.int32)\n",
    "    naive_mse = np.mean((naive_predict - y_true_naive) ** 2, axis=1)\n",
    "    \n",
    "    X_train, y_train = df[df['d']<1914].drop('sold',axis=1), df[df['d']<1914]['sold']\n",
    "    train_sets = lgb.Dataset(X_train, y_train)\n",
    "    X_valid, y_valid = df[(df['d']>=1914) & (df['d']<1942)].drop('sold',axis=1), df[(df['d']>=1914) & (df['d']<1942)]['sold']\n",
    "    valid_sets = lgb.Dataset(X_valid, y_valid)\n",
    "    \n",
    "    best = fmin(fn=objective, space=space, algo=anneal.suggest, max_evals=20)\n",
    "    best_params_store[d_store[i]] = best\n",
    "    \n",
    "    del df, store_df, naive_predict, y_true_naive, naive_mse, X_train, y_train, train_sets, X_valid, y_valid, valid_sets, best\n",
    "    gc.collect()"
   ]
  },
  {
   "cell_type": "code",
   "execution_count": 20,
   "id": "e3a8dd09",
   "metadata": {
    "execution": {
     "iopub.execute_input": "2023-06-06T07:24:31.713768Z",
     "iopub.status.busy": "2023-06-06T07:24:31.713387Z",
     "iopub.status.idle": "2023-06-06T07:24:31.722233Z",
     "shell.execute_reply": "2023-06-06T07:24:31.721170Z"
    },
    "papermill": {
     "duration": 0.034634,
     "end_time": "2023-06-06T07:24:31.724299",
     "exception": false,
     "start_time": "2023-06-06T07:24:31.689665",
     "status": "completed"
    },
    "tags": []
   },
   "outputs": [
    {
     "data": {
      "text/plain": [
       "{'CA_1': {'colsample_bytree': 0.8,\n",
       "  'learning_rate': 0.2,\n",
       "  'max_depth': 7.0,\n",
       "  'min_child_weight': 300.0,\n",
       "  'num_leaves': 200.0,\n",
       "  'subsample': 0.9},\n",
       " 'CA_2': {'colsample_bytree': 0.9,\n",
       "  'learning_rate': 0.30000000000000004,\n",
       "  'max_depth': 8.0,\n",
       "  'min_child_weight': 200.0,\n",
       "  'num_leaves': 200.0,\n",
       "  'subsample': 0.8},\n",
       " 'CA_3': {'colsample_bytree': 0.9,\n",
       "  'learning_rate': 0.2,\n",
       "  'max_depth': 8.0,\n",
       "  'min_child_weight': 300.0,\n",
       "  'num_leaves': 250.0,\n",
       "  'subsample': 0.9},\n",
       " 'CA_4': {'colsample_bytree': 0.9,\n",
       "  'learning_rate': 0.30000000000000004,\n",
       "  'max_depth': 7.0,\n",
       "  'min_child_weight': 300.0,\n",
       "  'num_leaves': 200.0,\n",
       "  'subsample': 0.9},\n",
       " 'TX_1': {'colsample_bytree': 0.8,\n",
       "  'learning_rate': 0.2,\n",
       "  'max_depth': 7.0,\n",
       "  'min_child_weight': 300.0,\n",
       "  'num_leaves': 200.0,\n",
       "  'subsample': 1.0},\n",
       " 'TX_2': {'colsample_bytree': 1.0,\n",
       "  'learning_rate': 0.30000000000000004,\n",
       "  'max_depth': 8.0,\n",
       "  'min_child_weight': 300.0,\n",
       "  'num_leaves': 200.0,\n",
       "  'subsample': 0.9},\n",
       " 'TX_3': {'colsample_bytree': 0.8,\n",
       "  'learning_rate': 0.2,\n",
       "  'max_depth': 7.0,\n",
       "  'min_child_weight': 300.0,\n",
       "  'num_leaves': 250.0,\n",
       "  'subsample': 0.9},\n",
       " 'WI_1': {'colsample_bytree': 0.9,\n",
       "  'learning_rate': 0.2,\n",
       "  'max_depth': 8.0,\n",
       "  'min_child_weight': 400.0,\n",
       "  'num_leaves': 250.0,\n",
       "  'subsample': 0.8},\n",
       " 'WI_2': {'colsample_bytree': 1.0,\n",
       "  'learning_rate': 0.2,\n",
       "  'max_depth': 8.0,\n",
       "  'min_child_weight': 200.0,\n",
       "  'num_leaves': 250.0,\n",
       "  'subsample': 0.9},\n",
       " 'WI_3': {'colsample_bytree': 0.9,\n",
       "  'learning_rate': 0.2,\n",
       "  'max_depth': 8.0,\n",
       "  'min_child_weight': 400.0,\n",
       "  'num_leaves': 250.0,\n",
       "  'subsample': 0.9}}"
      ]
     },
     "execution_count": 20,
     "metadata": {},
     "output_type": "execute_result"
    }
   ],
   "source": [
    "best_params_store"
   ]
  },
  {
   "cell_type": "markdown",
   "id": "a5b0ec52",
   "metadata": {
    "papermill": {
     "duration": 0.022787,
     "end_time": "2023-06-06T07:24:31.769525",
     "exception": false,
     "start_time": "2023-06-06T07:24:31.746738",
     "status": "completed"
    },
    "tags": []
   },
   "source": [
    "Do predictions"
   ]
  },
  {
   "cell_type": "code",
   "execution_count": 21,
   "id": "65aa55ff",
   "metadata": {
    "execution": {
     "iopub.execute_input": "2023-06-06T07:24:31.815691Z",
     "iopub.status.busy": "2023-06-06T07:24:31.815302Z",
     "iopub.status.idle": "2023-06-06T07:25:14.309353Z",
     "shell.execute_reply": "2023-06-06T07:25:14.307283Z"
    },
    "papermill": {
     "duration": 42.567276,
     "end_time": "2023-06-06T07:25:14.359086",
     "exception": false,
     "start_time": "2023-06-06T07:24:31.791810",
     "status": "completed"
    },
    "tags": []
   },
   "outputs": [
    {
     "name": "stdout",
     "output_type": "stream",
     "text": [
      "CPU times: user 849 ms, sys: 19.6 s, total: 20.5 s\n",
      "Wall time: 42.5 s\n"
     ]
    }
   ],
   "source": [
    "%%time\n",
    "data = pd.read_pickle('data.pkl')\n",
    "valid = data[(data['d']>=1914) & (data['d']<1942)][['id','d','sold']]\n",
    "test = data[data['d']>=1942][['id','d','sold']]"
   ]
  },
  {
   "cell_type": "code",
   "execution_count": 22,
   "id": "d3bfbe33",
   "metadata": {
    "execution": {
     "iopub.execute_input": "2023-06-06T07:25:14.475437Z",
     "iopub.status.busy": "2023-06-06T07:25:14.471519Z",
     "iopub.status.idle": "2023-06-06T07:36:58.213625Z",
     "shell.execute_reply": "2023-06-06T07:36:58.212529Z"
    },
    "papermill": {
     "duration": 703.797708,
     "end_time": "2023-06-06T07:36:58.215818",
     "exception": false,
     "start_time": "2023-06-06T07:25:14.418110",
     "status": "completed"
    },
    "tags": []
   },
   "outputs": [
    {
     "name": "stdout",
     "output_type": "stream",
     "text": [
      "Train model for store CA_1\n",
      "--------\n",
      "Training until validation scores don't improve for 50 rounds\n",
      "[50]\tvalid_0's tweedie: 4.29306\n",
      "[100]\tvalid_0's tweedie: 4.29036\n",
      "[150]\tvalid_0's tweedie: 4.29007\n",
      "Early stopping, best iteration is:\n",
      "[118]\tvalid_0's tweedie: 4.28749\n",
      "--------\n",
      "Predicting for store CA_1\n",
      "--------\n",
      "Saving model and clear memories\n",
      "--------\n",
      "Train model for store CA_2\n",
      "--------\n",
      "Training until validation scores don't improve for 50 rounds\n",
      "[50]\tvalid_0's tweedie: 4.36271\n",
      "Early stopping, best iteration is:\n",
      "[20]\tvalid_0's tweedie: 4.35669\n",
      "--------\n",
      "Predicting for store CA_2\n",
      "--------\n",
      "Saving model and clear memories\n",
      "--------\n",
      "Train model for store CA_3\n",
      "--------\n",
      "Training until validation scores don't improve for 50 rounds\n",
      "[50]\tvalid_0's tweedie: 4.85149\n",
      "[100]\tvalid_0's tweedie: 4.85041\n",
      "[150]\tvalid_0's tweedie: 4.85232\n",
      "Early stopping, best iteration is:\n",
      "[104]\tvalid_0's tweedie: 4.85014\n",
      "--------\n",
      "Predicting for store CA_3\n",
      "--------\n",
      "Saving model and clear memories\n",
      "--------\n",
      "Train model for store CA_4\n",
      "--------\n",
      "Training until validation scores don't improve for 50 rounds\n",
      "[50]\tvalid_0's tweedie: 3.36121\n",
      "[100]\tvalid_0's tweedie: 3.36465\n",
      "Early stopping, best iteration is:\n",
      "[59]\tvalid_0's tweedie: 3.36029\n",
      "--------\n",
      "Predicting for store CA_4\n",
      "--------\n",
      "Saving model and clear memories\n",
      "--------\n",
      "Train model for store TX_1\n",
      "--------\n",
      "Training until validation scores don't improve for 50 rounds\n",
      "[50]\tvalid_0's tweedie: 3.49641\n",
      "[100]\tvalid_0's tweedie: 3.50123\n",
      "Early stopping, best iteration is:\n",
      "[84]\tvalid_0's tweedie: 3.49591\n",
      "--------\n",
      "Predicting for store TX_1\n",
      "--------\n",
      "Saving model and clear memories\n",
      "--------\n",
      "Train model for store TX_2\n",
      "--------\n",
      "Training until validation scores don't improve for 50 rounds\n",
      "[50]\tvalid_0's tweedie: 3.85347\n",
      "Early stopping, best iteration is:\n",
      "[22]\tvalid_0's tweedie: 3.84615\n",
      "--------\n",
      "Predicting for store TX_2\n",
      "--------\n",
      "Saving model and clear memories\n",
      "--------\n",
      "Train model for store TX_3\n",
      "--------\n",
      "Training until validation scores don't improve for 50 rounds\n",
      "[50]\tvalid_0's tweedie: 3.86165\n",
      "[100]\tvalid_0's tweedie: 3.86235\n",
      "Early stopping, best iteration is:\n",
      "[84]\tvalid_0's tweedie: 3.85965\n",
      "--------\n",
      "Predicting for store TX_3\n",
      "--------\n",
      "Saving model and clear memories\n",
      "--------\n",
      "Train model for store WI_1\n",
      "--------\n",
      "Training until validation scores don't improve for 50 rounds\n",
      "[50]\tvalid_0's tweedie: 3.96841\n",
      "[100]\tvalid_0's tweedie: 3.97259\n",
      "Early stopping, best iteration is:\n",
      "[56]\tvalid_0's tweedie: 3.96737\n",
      "--------\n",
      "Predicting for store WI_1\n",
      "--------\n",
      "Saving model and clear memories\n",
      "--------\n",
      "Train model for store WI_2\n",
      "--------\n",
      "Training until validation scores don't improve for 50 rounds\n",
      "[50]\tvalid_0's tweedie: 4.24905\n",
      "Early stopping, best iteration is:\n",
      "[27]\tvalid_0's tweedie: 4.24715\n",
      "--------\n",
      "Predicting for store WI_2\n",
      "--------\n",
      "Saving model and clear memories\n",
      "--------\n",
      "Train model for store WI_3\n",
      "--------\n",
      "Training until validation scores don't improve for 50 rounds\n",
      "[50]\tvalid_0's tweedie: 3.71429\n",
      "[100]\tvalid_0's tweedie: 3.71603\n",
      "Early stopping, best iteration is:\n",
      "[53]\tvalid_0's tweedie: 3.71402\n",
      "--------\n",
      "Predicting for store WI_3\n",
      "--------\n",
      "Saving model and clear memories\n",
      "--------\n",
      "CPU times: user 36min 29s, sys: 1min, total: 37min 29s\n",
      "Wall time: 11min 43s\n"
     ]
    }
   ],
   "source": [
    "%%time\n",
    "for i in range(10): \n",
    "    # Forecast cho từng store \n",
    "    df = data[data[\"store_id\"] == i]\n",
    "    \n",
    "    #Create train set\n",
    "    X_train, y_train = df[df['d']<1914].drop('sold',axis=1), df[df['d']<1914]['sold']\n",
    "    train_sets = lgb.Dataset(X_train, y_train)\n",
    "    X_valid, y_valid = df[(df['d']>=1914) & (df['d']<1942)].drop('sold',axis=1), df[(df['d']>=1914) & (df['d']<1942)]['sold']\n",
    "    valid_sets = lgb.Dataset(X_valid, y_valid)\n",
    "    X_test = df[df[\"d\"] >= 1942].drop(\"sold\", axis=1)\n",
    "    \n",
    "    # Create model\n",
    "    print(f\"Train model for store {d_store[i]}\")\n",
    "    print(\"--------\")\n",
    "\n",
    "    model = lgb.train(params={'objective' : 'tweedie',\n",
    "                              'force_row_wise': True,\n",
    "                              'verbose': -1,\n",
    "                              'n_estimators': 1000,\n",
    "                              'learning_rate':best_params_store[d_store[i]][\"learning_rate\"],\n",
    "                              'subsample': best_params_store[d_store[i]][\"subsample\"],\n",
    "                              'colsample_bytree':best_params_store[d_store[i]][\"colsample_bytree\"],\n",
    "                              'min_child_weight':best_params_store[d_store[i]][\"min_child_weight\"],\n",
    "                              'max_depth':np.int16(best_params_store[d_store[i]][\"max_depth\"]),\n",
    "                              'num_leaves':np.int16(best_params_store[d_store[i]][\"num_leaves\"])}, \n",
    "                      train_set=train_sets, \n",
    "                      valid_sets=valid_sets,\n",
    "                      verbose_eval=50,\n",
    "                      early_stopping_rounds=50)\n",
    "    \n",
    "    print(\"--------\")\n",
    "    print(f\"Predicting for store {d_store[i]}\")\n",
    "    \n",
    "    # Validation predict\n",
    "    pred_val = model.predict(X_valid)\n",
    "    valid.loc[X_valid.index, \"sold\"] = pred_val\n",
    "    pred_eva = model.predict(X_test)\n",
    "    test.loc[X_test.index, \"sold\"] = pred_eva\n",
    "    \n",
    "    print(\"--------\")\n",
    "    print(\"Saving model and clear memories\")  \n",
    "    print(\"--------\")\n",
    "    \n",
    "    filename = f'model_store_{d_store[i]}.pkl'\n",
    "    joblib.dump(model, filename)\n",
    "    del model, X_train, y_train, X_valid, y_valid, X_test, train_sets, valid_sets\n",
    "    gc.collect "
   ]
  },
  {
   "cell_type": "code",
   "execution_count": 23,
   "id": "a5c9c8df",
   "metadata": {
    "execution": {
     "iopub.execute_input": "2023-06-06T07:36:58.270804Z",
     "iopub.status.busy": "2023-06-06T07:36:58.269822Z",
     "iopub.status.idle": "2023-06-06T07:36:58.274460Z",
     "shell.execute_reply": "2023-06-06T07:36:58.273439Z"
    },
    "papermill": {
     "duration": 0.034307,
     "end_time": "2023-06-06T07:36:58.276731",
     "exception": false,
     "start_time": "2023-06-06T07:36:58.242424",
     "status": "completed"
    },
    "tags": []
   },
   "outputs": [],
   "source": [
    "#model = joblib.load(\"/kaggle/working/model_store_CA_1.pkl\")\n",
    "#lgb.plot_importance(model, importance_type=\"gain\", figsize=(15,8))"
   ]
  },
  {
   "cell_type": "code",
   "execution_count": 24,
   "id": "a4b36ffa",
   "metadata": {
    "execution": {
     "iopub.execute_input": "2023-06-06T07:36:58.330448Z",
     "iopub.status.busy": "2023-06-06T07:36:58.330042Z",
     "iopub.status.idle": "2023-06-06T07:36:59.420807Z",
     "shell.execute_reply": "2023-06-06T07:36:59.419598Z"
    },
    "papermill": {
     "duration": 1.120702,
     "end_time": "2023-06-06T07:36:59.423361",
     "exception": false,
     "start_time": "2023-06-06T07:36:58.302659",
     "status": "completed"
    },
    "tags": []
   },
   "outputs": [],
   "source": [
    "valid[\"id\"] = valid[\"id\"].map(d_id)\n",
    "valid = valid.pivot(index=\"id\", columns=\"d\", values=\"sold\").reset_index()\n",
    "valid[\"id\"] = valid[\"id\"].str.replace(\"evaluation\", \"validation\")\n",
    "\n",
    "sample_sub = sample_sub[[\"id\"]]\n",
    "\n",
    "f_col = [f\"F{i}\" for i in range(1,29)]\n",
    "f_col.insert(0, \"id\")\n",
    "\n",
    "out_val = pd.merge(left=sample_sub[:30490], right=valid, on=\"id\")\n",
    "out_val.columns=f_col\n",
    "\n",
    "test[\"id\"] = test[\"id\"].map(d_id)\n",
    "test = test.pivot(index=\"id\", columns=\"d\", values=\"sold\").reset_index()\n",
    "\n",
    "out_eva = pd.merge(left=sample_sub[30490:], right=test, on=\"id\")\n",
    "out_eva.columns=f_col\n",
    "\n",
    "submit = pd.concat([out_val,out_eva], ignore_index=True)"
   ]
  },
  {
   "cell_type": "code",
   "execution_count": 25,
   "id": "d58048e1",
   "metadata": {
    "execution": {
     "iopub.execute_input": "2023-06-06T07:36:59.478292Z",
     "iopub.status.busy": "2023-06-06T07:36:59.477849Z",
     "iopub.status.idle": "2023-06-06T07:36:59.538380Z",
     "shell.execute_reply": "2023-06-06T07:36:59.537214Z"
    },
    "papermill": {
     "duration": 0.091317,
     "end_time": "2023-06-06T07:36:59.540843",
     "exception": false,
     "start_time": "2023-06-06T07:36:59.449526",
     "status": "completed"
    },
    "tags": []
   },
   "outputs": [
    {
     "data": {
      "text/html": [
       "<div>\n",
       "<style scoped>\n",
       "    .dataframe tbody tr th:only-of-type {\n",
       "        vertical-align: middle;\n",
       "    }\n",
       "\n",
       "    .dataframe tbody tr th {\n",
       "        vertical-align: top;\n",
       "    }\n",
       "\n",
       "    .dataframe thead th {\n",
       "        text-align: right;\n",
       "    }\n",
       "</style>\n",
       "<table border=\"1\" class=\"dataframe\">\n",
       "  <thead>\n",
       "    <tr style=\"text-align: right;\">\n",
       "      <th></th>\n",
       "      <th>id</th>\n",
       "      <th>F1</th>\n",
       "      <th>F2</th>\n",
       "      <th>F3</th>\n",
       "      <th>F4</th>\n",
       "      <th>F5</th>\n",
       "      <th>F6</th>\n",
       "      <th>F7</th>\n",
       "      <th>F8</th>\n",
       "      <th>F9</th>\n",
       "      <th>...</th>\n",
       "      <th>F19</th>\n",
       "      <th>F20</th>\n",
       "      <th>F21</th>\n",
       "      <th>F22</th>\n",
       "      <th>F23</th>\n",
       "      <th>F24</th>\n",
       "      <th>F25</th>\n",
       "      <th>F26</th>\n",
       "      <th>F27</th>\n",
       "      <th>F28</th>\n",
       "    </tr>\n",
       "  </thead>\n",
       "  <tbody>\n",
       "    <tr>\n",
       "      <th>0</th>\n",
       "      <td>HOBBIES_1_001_CA_1_validation</td>\n",
       "      <td>0.920875</td>\n",
       "      <td>0.760546</td>\n",
       "      <td>0.757955</td>\n",
       "      <td>0.711162</td>\n",
       "      <td>0.828706</td>\n",
       "      <td>1.097972</td>\n",
       "      <td>1.029628</td>\n",
       "      <td>0.782116</td>\n",
       "      <td>0.771163</td>\n",
       "      <td>...</td>\n",
       "      <td>0.965307</td>\n",
       "      <td>1.217575</td>\n",
       "      <td>1.253032</td>\n",
       "      <td>0.949194</td>\n",
       "      <td>0.776976</td>\n",
       "      <td>0.754316</td>\n",
       "      <td>0.821256</td>\n",
       "      <td>0.919370</td>\n",
       "      <td>1.157267</td>\n",
       "      <td>1.143255</td>\n",
       "    </tr>\n",
       "    <tr>\n",
       "      <th>1</th>\n",
       "      <td>HOBBIES_1_002_CA_1_validation</td>\n",
       "      <td>0.380173</td>\n",
       "      <td>0.345906</td>\n",
       "      <td>0.326023</td>\n",
       "      <td>0.320066</td>\n",
       "      <td>0.366852</td>\n",
       "      <td>0.457072</td>\n",
       "      <td>0.417306</td>\n",
       "      <td>0.309664</td>\n",
       "      <td>0.265039</td>\n",
       "      <td>...</td>\n",
       "      <td>0.309420</td>\n",
       "      <td>0.445289</td>\n",
       "      <td>0.391920</td>\n",
       "      <td>0.304422</td>\n",
       "      <td>0.258979</td>\n",
       "      <td>0.242773</td>\n",
       "      <td>0.243011</td>\n",
       "      <td>0.281972</td>\n",
       "      <td>0.313900</td>\n",
       "      <td>0.258163</td>\n",
       "    </tr>\n",
       "    <tr>\n",
       "      <th>2</th>\n",
       "      <td>HOBBIES_1_003_CA_1_validation</td>\n",
       "      <td>0.564305</td>\n",
       "      <td>0.463523</td>\n",
       "      <td>0.446733</td>\n",
       "      <td>0.490597</td>\n",
       "      <td>0.567147</td>\n",
       "      <td>0.679917</td>\n",
       "      <td>0.638504</td>\n",
       "      <td>0.450915</td>\n",
       "      <td>0.444713</td>\n",
       "      <td>...</td>\n",
       "      <td>0.604698</td>\n",
       "      <td>0.730895</td>\n",
       "      <td>0.736315</td>\n",
       "      <td>0.620832</td>\n",
       "      <td>0.588095</td>\n",
       "      <td>0.631331</td>\n",
       "      <td>0.587575</td>\n",
       "      <td>0.695829</td>\n",
       "      <td>0.845153</td>\n",
       "      <td>0.874448</td>\n",
       "    </tr>\n",
       "    <tr>\n",
       "      <th>3</th>\n",
       "      <td>HOBBIES_1_004_CA_1_validation</td>\n",
       "      <td>1.943717</td>\n",
       "      <td>1.705169</td>\n",
       "      <td>1.613644</td>\n",
       "      <td>1.512644</td>\n",
       "      <td>1.807105</td>\n",
       "      <td>2.570215</td>\n",
       "      <td>2.556299</td>\n",
       "      <td>1.831783</td>\n",
       "      <td>1.535107</td>\n",
       "      <td>...</td>\n",
       "      <td>1.633205</td>\n",
       "      <td>2.468217</td>\n",
       "      <td>2.359394</td>\n",
       "      <td>1.754184</td>\n",
       "      <td>1.527192</td>\n",
       "      <td>1.558596</td>\n",
       "      <td>1.424226</td>\n",
       "      <td>1.664176</td>\n",
       "      <td>2.356025</td>\n",
       "      <td>2.691174</td>\n",
       "    </tr>\n",
       "    <tr>\n",
       "      <th>4</th>\n",
       "      <td>HOBBIES_1_005_CA_1_validation</td>\n",
       "      <td>1.085582</td>\n",
       "      <td>0.805124</td>\n",
       "      <td>0.994593</td>\n",
       "      <td>1.075440</td>\n",
       "      <td>1.204261</td>\n",
       "      <td>1.460079</td>\n",
       "      <td>1.508997</td>\n",
       "      <td>1.184461</td>\n",
       "      <td>1.091212</td>\n",
       "      <td>...</td>\n",
       "      <td>1.022125</td>\n",
       "      <td>1.350813</td>\n",
       "      <td>1.397258</td>\n",
       "      <td>0.984482</td>\n",
       "      <td>0.870272</td>\n",
       "      <td>0.861293</td>\n",
       "      <td>0.847483</td>\n",
       "      <td>1.174094</td>\n",
       "      <td>1.412847</td>\n",
       "      <td>1.572596</td>\n",
       "    </tr>\n",
       "    <tr>\n",
       "      <th>...</th>\n",
       "      <td>...</td>\n",
       "      <td>...</td>\n",
       "      <td>...</td>\n",
       "      <td>...</td>\n",
       "      <td>...</td>\n",
       "      <td>...</td>\n",
       "      <td>...</td>\n",
       "      <td>...</td>\n",
       "      <td>...</td>\n",
       "      <td>...</td>\n",
       "      <td>...</td>\n",
       "      <td>...</td>\n",
       "      <td>...</td>\n",
       "      <td>...</td>\n",
       "      <td>...</td>\n",
       "      <td>...</td>\n",
       "      <td>...</td>\n",
       "      <td>...</td>\n",
       "      <td>...</td>\n",
       "      <td>...</td>\n",
       "      <td>...</td>\n",
       "    </tr>\n",
       "    <tr>\n",
       "      <th>60975</th>\n",
       "      <td>FOODS_3_823_WI_3_evaluation</td>\n",
       "      <td>0.384847</td>\n",
       "      <td>0.408038</td>\n",
       "      <td>0.399819</td>\n",
       "      <td>0.446521</td>\n",
       "      <td>0.669699</td>\n",
       "      <td>0.741491</td>\n",
       "      <td>0.714729</td>\n",
       "      <td>0.493718</td>\n",
       "      <td>0.545130</td>\n",
       "      <td>...</td>\n",
       "      <td>0.716556</td>\n",
       "      <td>0.812492</td>\n",
       "      <td>0.818664</td>\n",
       "      <td>0.707584</td>\n",
       "      <td>0.669967</td>\n",
       "      <td>0.687489</td>\n",
       "      <td>0.541193</td>\n",
       "      <td>0.668842</td>\n",
       "      <td>0.658130</td>\n",
       "      <td>0.803895</td>\n",
       "    </tr>\n",
       "    <tr>\n",
       "      <th>60976</th>\n",
       "      <td>FOODS_3_824_WI_3_evaluation</td>\n",
       "      <td>0.270022</td>\n",
       "      <td>0.279047</td>\n",
       "      <td>0.287140</td>\n",
       "      <td>0.382968</td>\n",
       "      <td>0.445324</td>\n",
       "      <td>0.426837</td>\n",
       "      <td>0.386212</td>\n",
       "      <td>0.315894</td>\n",
       "      <td>0.361767</td>\n",
       "      <td>...</td>\n",
       "      <td>0.256865</td>\n",
       "      <td>0.288135</td>\n",
       "      <td>0.288428</td>\n",
       "      <td>0.264014</td>\n",
       "      <td>0.304923</td>\n",
       "      <td>0.301380</td>\n",
       "      <td>0.318282</td>\n",
       "      <td>0.309472</td>\n",
       "      <td>0.407646</td>\n",
       "      <td>0.374816</td>\n",
       "    </tr>\n",
       "    <tr>\n",
       "      <th>60977</th>\n",
       "      <td>FOODS_3_825_WI_3_evaluation</td>\n",
       "      <td>0.591817</td>\n",
       "      <td>0.572444</td>\n",
       "      <td>0.552542</td>\n",
       "      <td>0.585518</td>\n",
       "      <td>0.668301</td>\n",
       "      <td>0.906825</td>\n",
       "      <td>0.881910</td>\n",
       "      <td>0.703805</td>\n",
       "      <td>0.618025</td>\n",
       "      <td>...</td>\n",
       "      <td>1.110056</td>\n",
       "      <td>1.190463</td>\n",
       "      <td>1.152983</td>\n",
       "      <td>1.174852</td>\n",
       "      <td>1.085875</td>\n",
       "      <td>0.930320</td>\n",
       "      <td>0.695539</td>\n",
       "      <td>0.842074</td>\n",
       "      <td>1.003697</td>\n",
       "      <td>0.969664</td>\n",
       "    </tr>\n",
       "    <tr>\n",
       "      <th>60978</th>\n",
       "      <td>FOODS_3_826_WI_3_evaluation</td>\n",
       "      <td>0.940807</td>\n",
       "      <td>0.920369</td>\n",
       "      <td>0.996659</td>\n",
       "      <td>0.993060</td>\n",
       "      <td>1.099301</td>\n",
       "      <td>1.351013</td>\n",
       "      <td>1.253780</td>\n",
       "      <td>0.974163</td>\n",
       "      <td>0.892712</td>\n",
       "      <td>...</td>\n",
       "      <td>1.291240</td>\n",
       "      <td>1.706234</td>\n",
       "      <td>1.398037</td>\n",
       "      <td>1.310340</td>\n",
       "      <td>1.664076</td>\n",
       "      <td>1.605405</td>\n",
       "      <td>1.415688</td>\n",
       "      <td>1.467283</td>\n",
       "      <td>1.614603</td>\n",
       "      <td>1.315356</td>\n",
       "    </tr>\n",
       "    <tr>\n",
       "      <th>60979</th>\n",
       "      <td>FOODS_3_827_WI_3_evaluation</td>\n",
       "      <td>1.156041</td>\n",
       "      <td>1.185761</td>\n",
       "      <td>1.263422</td>\n",
       "      <td>1.267007</td>\n",
       "      <td>1.204365</td>\n",
       "      <td>1.483095</td>\n",
       "      <td>1.333900</td>\n",
       "      <td>1.267087</td>\n",
       "      <td>1.199211</td>\n",
       "      <td>...</td>\n",
       "      <td>1.776552</td>\n",
       "      <td>1.931269</td>\n",
       "      <td>1.662128</td>\n",
       "      <td>1.484104</td>\n",
       "      <td>1.616458</td>\n",
       "      <td>1.775389</td>\n",
       "      <td>1.859199</td>\n",
       "      <td>1.695337</td>\n",
       "      <td>2.556894</td>\n",
       "      <td>1.924783</td>\n",
       "    </tr>\n",
       "  </tbody>\n",
       "</table>\n",
       "<p>60980 rows × 29 columns</p>\n",
       "</div>"
      ],
      "text/plain": [
       "                                  id        F1        F2        F3        F4  \\\n",
       "0      HOBBIES_1_001_CA_1_validation  0.920875  0.760546  0.757955  0.711162   \n",
       "1      HOBBIES_1_002_CA_1_validation  0.380173  0.345906  0.326023  0.320066   \n",
       "2      HOBBIES_1_003_CA_1_validation  0.564305  0.463523  0.446733  0.490597   \n",
       "3      HOBBIES_1_004_CA_1_validation  1.943717  1.705169  1.613644  1.512644   \n",
       "4      HOBBIES_1_005_CA_1_validation  1.085582  0.805124  0.994593  1.075440   \n",
       "...                              ...       ...       ...       ...       ...   \n",
       "60975    FOODS_3_823_WI_3_evaluation  0.384847  0.408038  0.399819  0.446521   \n",
       "60976    FOODS_3_824_WI_3_evaluation  0.270022  0.279047  0.287140  0.382968   \n",
       "60977    FOODS_3_825_WI_3_evaluation  0.591817  0.572444  0.552542  0.585518   \n",
       "60978    FOODS_3_826_WI_3_evaluation  0.940807  0.920369  0.996659  0.993060   \n",
       "60979    FOODS_3_827_WI_3_evaluation  1.156041  1.185761  1.263422  1.267007   \n",
       "\n",
       "             F5        F6        F7        F8        F9  ...       F19  \\\n",
       "0      0.828706  1.097972  1.029628  0.782116  0.771163  ...  0.965307   \n",
       "1      0.366852  0.457072  0.417306  0.309664  0.265039  ...  0.309420   \n",
       "2      0.567147  0.679917  0.638504  0.450915  0.444713  ...  0.604698   \n",
       "3      1.807105  2.570215  2.556299  1.831783  1.535107  ...  1.633205   \n",
       "4      1.204261  1.460079  1.508997  1.184461  1.091212  ...  1.022125   \n",
       "...         ...       ...       ...       ...       ...  ...       ...   \n",
       "60975  0.669699  0.741491  0.714729  0.493718  0.545130  ...  0.716556   \n",
       "60976  0.445324  0.426837  0.386212  0.315894  0.361767  ...  0.256865   \n",
       "60977  0.668301  0.906825  0.881910  0.703805  0.618025  ...  1.110056   \n",
       "60978  1.099301  1.351013  1.253780  0.974163  0.892712  ...  1.291240   \n",
       "60979  1.204365  1.483095  1.333900  1.267087  1.199211  ...  1.776552   \n",
       "\n",
       "            F20       F21       F22       F23       F24       F25       F26  \\\n",
       "0      1.217575  1.253032  0.949194  0.776976  0.754316  0.821256  0.919370   \n",
       "1      0.445289  0.391920  0.304422  0.258979  0.242773  0.243011  0.281972   \n",
       "2      0.730895  0.736315  0.620832  0.588095  0.631331  0.587575  0.695829   \n",
       "3      2.468217  2.359394  1.754184  1.527192  1.558596  1.424226  1.664176   \n",
       "4      1.350813  1.397258  0.984482  0.870272  0.861293  0.847483  1.174094   \n",
       "...         ...       ...       ...       ...       ...       ...       ...   \n",
       "60975  0.812492  0.818664  0.707584  0.669967  0.687489  0.541193  0.668842   \n",
       "60976  0.288135  0.288428  0.264014  0.304923  0.301380  0.318282  0.309472   \n",
       "60977  1.190463  1.152983  1.174852  1.085875  0.930320  0.695539  0.842074   \n",
       "60978  1.706234  1.398037  1.310340  1.664076  1.605405  1.415688  1.467283   \n",
       "60979  1.931269  1.662128  1.484104  1.616458  1.775389  1.859199  1.695337   \n",
       "\n",
       "            F27       F28  \n",
       "0      1.157267  1.143255  \n",
       "1      0.313900  0.258163  \n",
       "2      0.845153  0.874448  \n",
       "3      2.356025  2.691174  \n",
       "4      1.412847  1.572596  \n",
       "...         ...       ...  \n",
       "60975  0.658130  0.803895  \n",
       "60976  0.407646  0.374816  \n",
       "60977  1.003697  0.969664  \n",
       "60978  1.614603  1.315356  \n",
       "60979  2.556894  1.924783  \n",
       "\n",
       "[60980 rows x 29 columns]"
      ]
     },
     "execution_count": 25,
     "metadata": {},
     "output_type": "execute_result"
    }
   ],
   "source": [
    "submit"
   ]
  },
  {
   "cell_type": "code",
   "execution_count": null,
   "id": "73f03256",
   "metadata": {
    "papermill": {
     "duration": 0.026493,
     "end_time": "2023-06-06T07:36:59.595945",
     "exception": false,
     "start_time": "2023-06-06T07:36:59.569452",
     "status": "completed"
    },
    "tags": []
   },
   "outputs": [],
   "source": []
  },
  {
   "cell_type": "code",
   "execution_count": 26,
   "id": "8d23eb87",
   "metadata": {
    "execution": {
     "iopub.execute_input": "2023-06-06T07:36:59.651404Z",
     "iopub.status.busy": "2023-06-06T07:36:59.651020Z",
     "iopub.status.idle": "2023-06-06T07:37:02.342514Z",
     "shell.execute_reply": "2023-06-06T07:37:02.341479Z"
    },
    "papermill": {
     "duration": 2.722065,
     "end_time": "2023-06-06T07:37:02.345137",
     "exception": false,
     "start_time": "2023-06-06T07:36:59.623072",
     "status": "completed"
    },
    "tags": []
   },
   "outputs": [],
   "source": [
    "submit.to_csv('submission.csv',index=False)"
   ]
  },
  {
   "cell_type": "code",
   "execution_count": null,
   "id": "3f4a6d81",
   "metadata": {
    "papermill": {
     "duration": 0.026333,
     "end_time": "2023-06-06T07:37:02.398171",
     "exception": false,
     "start_time": "2023-06-06T07:37:02.371838",
     "status": "completed"
    },
    "tags": []
   },
   "outputs": [],
   "source": []
  }
 ],
 "metadata": {
  "kernelspec": {
   "display_name": "Python 3",
   "language": "python",
   "name": "python3"
  },
  "language_info": {
   "codemirror_mode": {
    "name": "ipython",
    "version": 3
   },
   "file_extension": ".py",
   "mimetype": "text/x-python",
   "name": "python",
   "nbconvert_exporter": "python",
   "pygments_lexer": "ipython3",
   "version": "3.10.10"
  },
  "papermill": {
   "default_parameters": {},
   "duration": 12556.150387,
   "end_time": "2023-06-06T07:37:04.072550",
   "environment_variables": {},
   "exception": null,
   "input_path": "__notebook__.ipynb",
   "output_path": "__notebook__.ipynb",
   "parameters": {},
   "start_time": "2023-06-06T04:07:47.922163",
   "version": "2.4.0"
  }
 },
 "nbformat": 4,
 "nbformat_minor": 5
}
